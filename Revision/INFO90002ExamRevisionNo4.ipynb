{
  "nbformat": 4,
  "nbformat_minor": 0,
  "metadata": {
    "colab": {
      "name": "INFO90002ExamRevisionNo4.ipynb",
      "version": "0.3.2",
      "provenance": [],
      "collapsed_sections": [],
      "include_colab_link": true
    },
    "kernelspec": {
      "name": "python3",
      "display_name": "Python 3"
    }
  },
  "cells": [
    {
      "cell_type": "markdown",
      "metadata": {
        "id": "view-in-github",
        "colab_type": "text"
      },
      "source": [
        "<a href=\"https://colab.research.google.com/github/Data-Science-and-Data-Analytics-Courses/UniMelb---Database-Systems-Information-Modelling-INFO90002_2019_SM1/blob/master/Revision/INFO90002ExamRevisionNo4.ipynb\" target=\"_parent\"><img src=\"https://colab.research.google.com/assets/colab-badge.svg\" alt=\"Open In Colab\"/></a>"
      ]
    },
    {
      "cell_type": "markdown",
      "metadata": {
        "id": "Wg7-e-SQgaRI",
        "colab_type": "text"
      },
      "source": [
        "# INFO90002 Exam Revision No 4\n",
        "\n",
        "---\n",
        "\n"
      ]
    },
    {
      "cell_type": "markdown",
      "metadata": {
        "id": "fGotOo2jhnMP",
        "colab_type": "text"
      },
      "source": [
        "## Q2 – SQL\n",
        "**Your task:**  \n",
        "Questions 2A-E require you to write one single SQL statement per question. Do not use views\n",
        "or temporary tables. Format code for ease of reading. Ensure user-friendly output by ordering\n",
        "and renaming columns where appropriate.  \n"
      ]
    },
    {
      "cell_type": "markdown",
      "metadata": {
        "id": "X2IRKR_bh3iB",
        "colab_type": "text"
      },
      "source": [
        "2.1 Change student 10001’s name to “Alison Smythe”.  \n",
        "\n",
        "\n",
        "```\n",
        "UPDATE Student\n",
        "SET givenName = Alison, familyName = Smythe\n",
        "WHERE id = 10001;\n",
        "```\n",
        "\n"
      ]
    },
    {
      "cell_type": "markdown",
      "metadata": {
        "id": "s4EvUuRVjP_X",
        "colab_type": "text"
      },
      "source": [
        "2.2 For each letter A to Z, list that letter along with a count of how many family names begin\n",
        "with the letter.  \n",
        "It is ok to omit letters with which no name begins.  \n",
        "\n",
        "\n",
        "```\n",
        "SELECT SUBSTRING(familyName, 1, 1) AS Initial, COUNT(DISTINCT(familyName)) AS Count\n",
        "FROM Student\n",
        "GROUP BY SUBSTRING(familyName, 1, 1)\n",
        "```\n",
        "\n"
      ]
    },
    {
      "cell_type": "markdown",
      "metadata": {
        "id": "dcYudPGjnTkr",
        "colab_type": "text"
      },
      "source": [
        "2.3 Is student 10001 free on Wednesdays at 10am? Answer 'yes' or 'no'.  \n",
        "\n",
        "\n",
        "```\n",
        "SELECT IF(EXISTS(\n",
        "  SELECT *\n",
        "  FROM Availability\n",
        "  WHERE Student = 10001 AND day = Wed AND hour = 10), 1, 0)\n",
        "```\n",
        "\n"
      ]
    },
    {
      "cell_type": "markdown",
      "metadata": {
        "id": "U8LyDRqUsryR",
        "colab_type": "text"
      },
      "source": [
        "2.4 List each student's name, along with a count of how many timeslots they have marked as\n",
        "being free.  \n",
        "Be sure to include students who have not marked any free times.  \n",
        "\n",
        "\n",
        "```\n",
        "SELECT Student.givenName, COUNT(DISTINCT Availability.day, Availability.hour)\n",
        "FROM\n",
        "  Student LEFT JOIN Availability\n",
        "  ON Student.id = Availability.Student\n",
        "GROUP BY Student.id, Student.givenName\n",
        "```\n",
        "\n"
      ]
    },
    {
      "cell_type": "markdown",
      "metadata": {
        "id": "AYa2HBtlxD_v",
        "colab_type": "text"
      },
      "source": [
        "2.5 List any students who are free at ALL times.  \n",
        "\n",
        "\n",
        "```\n",
        "SELECT Student\n",
        "FROM Availability\n",
        "GROUP BY Student\n",
        "HAVING COUNT(*)= (SELECT COUNT(*) FROM Calendar)\n",
        "```\n",
        "\n"
      ]
    },
    {
      "cell_type": "markdown",
      "metadata": {
        "id": "1AR-PzJ_1ZII",
        "colab_type": "text"
      },
      "source": [
        "## Q3 - Database Administration\n",
        "3.1 Using an SQL DML Update statement explain the purpose and operation of the database\n",
        "buffer cache  \n",
        "\n",
        "\n"
      ]
    },
    {
      "cell_type": "code",
      "metadata": {
        "id": "IXsdhbFzfsrR",
        "colab_type": "code",
        "colab": {}
      },
      "source": [
        ""
      ],
      "execution_count": 0,
      "outputs": []
    }
  ]
}
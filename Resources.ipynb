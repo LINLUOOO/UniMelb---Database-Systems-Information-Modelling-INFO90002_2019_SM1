{
  "nbformat": 4,
  "nbformat_minor": 0,
  "metadata": {
    "colab": {
      "name": "Resources.ipynb",
      "version": "0.3.2",
      "provenance": [],
      "include_colab_link": true
    },
    "kernelspec": {
      "name": "python3",
      "display_name": "Python 3"
    },
    "accelerator": "GPU"
  },
  "cells": [
    {
      "cell_type": "markdown",
      "metadata": {
        "id": "view-in-github",
        "colab_type": "text"
      },
      "source": [
        "<a href=\"https://colab.research.google.com/github/Data-Science-and-Data-Analytics-Courses/UniMelb---Database-Systems-Information-Modelling-INFO90002_2019_SM1/blob/master/Resources.ipynb\" target=\"_parent\"><img src=\"https://colab.research.google.com/assets/colab-badge.svg\" alt=\"Open In Colab\"/></a>"
      ]
    },
    {
      "cell_type": "markdown",
      "metadata": {
        "colab_type": "text",
        "id": "UdDQ4H0VmPpJ"
      },
      "source": [
        "# Clone remote"
      ]
    },
    {
      "cell_type": "code",
      "metadata": {
        "colab_type": "code",
        "id": "cXqTKogHXEr9",
        "outputId": "9bb06af5-4079-41b6-83f7-ff76bd3f5b58",
        "colab": {
          "base_uri": "https://localhost:8080/",
          "height": 241
        }
      },
      "source": [
        "import os, sys\n",
        "from google.colab import drive\n",
        "from urllib.parse import urlsplit\n",
        "from pathlib import Path\n",
        "\n",
        "URL = \"https://github.com/Data-Science-and-Data-Analytics-Courses/UniMelb---Database-Systems-Information-Modelling-INFO90002_2019_SM1\"\n",
        "DRIVE = Path(\"/drive\", \"My Drive\")\n",
        "nbdir_rel = \"\"\n",
        "\n",
        "def clone(url, dest=\".\", name=\"\", options=\"--single-branch -b master\", reloc=True):\n",
        "  \"\"\"\n",
        "  Clone url into dest\n",
        "  name: if provided, rename repository\n",
        "  options: supported by git-clone (https://git-scm.com/docs/git-clone)\n",
        "  reloc: if True, relocate to repository\n",
        "  \"\"\"\n",
        "\n",
        "  rurl = urlsplit(url)\n",
        "  dest = Path(dest).resolve()\n",
        "  repo = dest / (name or Path(rurl.path).name)\n",
        "\n",
        "  # Nested repositories not allowed\n",
        "  out = !git -C \"{dest}\" rev-parse\n",
        "  if not out: # inside repository\n",
        "    raise ValueError(\"Can't clone into existing repository\")\n",
        "  \n",
        "  # Clone\n",
        "  !git clone {options} \"{rurl.geturl()}\" \"{repo}\"\n",
        "  \n",
        "  # Relocate\n",
        "  if reloc:\n",
        "    os.chdir(repo)\n",
        "\n",
        "  return repo\n",
        "  \n",
        "REPO = clone(URL)\n",
        "drive.mount(DRIVE.parent.as_posix())\n",
        "NBDIR = REPO/nbdir_rel\n",
        "os.chdir(NBDIR)"
      ],
      "execution_count": 1,
      "outputs": [
        {
          "output_type": "stream",
          "text": [
            "Cloning into '/content/UniMelb---Database-Systems-Information-Modelling-INFO90002_2019_SM1'...\n",
            "remote: Enumerating objects: 65, done.\u001b[K\n",
            "remote: Counting objects:   1% (1/65)   \u001b[K\rremote: Counting objects:   3% (2/65)   \u001b[K\rremote: Counting objects:   4% (3/65)   \u001b[K\rremote: Counting objects:   6% (4/65)   \u001b[K\rremote: Counting objects:   7% (5/65)   \u001b[K\rremote: Counting objects:   9% (6/65)   \u001b[K\rremote: Counting objects:  10% (7/65)   \u001b[K\rremote: Counting objects:  12% (8/65)   \u001b[K\rremote: Counting objects:  13% (9/65)   \u001b[K\rremote: Counting objects:  15% (10/65)   \u001b[K\rremote: Counting objects:  16% (11/65)   \u001b[K\rremote: Counting objects:  18% (12/65)   \u001b[K\rremote: Counting objects:  20% (13/65)   \u001b[K\rremote: Counting objects:  21% (14/65)   \u001b[K\rremote: Counting objects:  23% (15/65)   \u001b[K\rremote: Counting objects:  24% (16/65)   \u001b[K\rremote: Counting objects:  26% (17/65)   \u001b[K\rremote: Counting objects:  27% (18/65)   \u001b[K\rremote: Counting objects:  29% (19/65)   \u001b[K\rremote: Counting objects:  30% (20/65)   \u001b[K\rremote: Counting objects:  32% (21/65)   \u001b[K\rremote: Counting objects:  33% (22/65)   \u001b[K\rremote: Counting objects:  35% (23/65)   \u001b[K\rremote: Counting objects:  36% (24/65)   \u001b[K\rremote: Counting objects:  38% (25/65)   \u001b[K\rremote: Counting objects:  40% (26/65)   \u001b[K\rremote: Counting objects:  41% (27/65)   \u001b[K\rremote: Counting objects:  43% (28/65)   \u001b[K\rremote: Counting objects:  44% (29/65)   \u001b[K\rremote: Counting objects:  46% (30/65)   \u001b[K\rremote: Counting objects:  47% (31/65)   \u001b[K\rremote: Counting objects:  49% (32/65)   \u001b[K\rremote: Counting objects:  50% (33/65)   \u001b[K\rremote: Counting objects:  52% (34/65)   \u001b[K\rremote: Counting objects:  53% (35/65)   \u001b[K\rremote: Counting objects:  55% (36/65)   \u001b[K\rremote: Counting objects:  56% (37/65)   \u001b[K\rremote: Counting objects:  58% (38/65)   \u001b[K\rremote: Counting objects:  60% (39/65)   \u001b[K\rremote: Counting objects:  61% (40/65)   \u001b[K\rremote: Counting objects:  63% (41/65)   \u001b[K\rremote: Counting objects:  64% (42/65)   \u001b[K\rremote: Counting objects:  66% (43/65)   \u001b[K\rremote: Counting objects:  67% (44/65)   \u001b[K\rremote: Counting objects:  69% (45/65)   \u001b[K\rremote: Counting objects:  70% (46/65)   \u001b[K\rremote: Counting objects:  72% (47/65)   \u001b[K\rremote: Counting objects:  73% (48/65)   \u001b[K\rremote: Counting objects:  75% (49/65)   \u001b[K\rremote: Counting objects:  76% (50/65)   \u001b[K\rremote: Counting objects:  78% (51/65)   \u001b[K\rremote: Counting objects:  80% (52/65)   \u001b[K\rremote: Counting objects:  81% (53/65)   \u001b[K\rremote: Counting objects:  83% (54/65)   \u001b[K\rremote: Counting objects:  84% (55/65)   \u001b[K\rremote: Counting objects:  86% (56/65)   \u001b[K\rremote: Counting objects:  87% (57/65)   \u001b[K\rremote: Counting objects:  89% (58/65)   \u001b[K\rremote: Counting objects:  90% (59/65)   \u001b[K\rremote: Counting objects:  92% (60/65)   \u001b[K\rremote: Counting objects:  93% (61/65)   \u001b[K\rremote: Counting objects:  95% (62/65)   \u001b[K\rremote: Counting objects:  96% (63/65)   \u001b[K\rremote: Counting objects:  98% (64/65)   \u001b[K\rremote: Counting objects: 100% (65/65)   \u001b[K\rremote: Counting objects: 100% (65/65), done.\u001b[K\n",
            "remote: Compressing objects: 100% (59/59), done.\u001b[K\n",
            "remote: Total 230 (delta 24), reused 26 (delta 5), pack-reused 165\n",
            "Receiving objects: 100% (230/230), 39.50 MiB | 3.21 MiB/s, done.\n",
            "Resolving deltas: 100% (92/92), done.\n",
            "Go to this URL in a browser: https://accounts.google.com/o/oauth2/auth?client_id=947318989803-6bn6qk8qdgf4n4g3pfee6491hc0brc4i.apps.googleusercontent.com&redirect_uri=urn%3Aietf%3Awg%3Aoauth%3A2.0%3Aoob&scope=email%20https%3A%2F%2Fwww.googleapis.com%2Fauth%2Fdocs.test%20https%3A%2F%2Fwww.googleapis.com%2Fauth%2Fdrive%20https%3A%2F%2Fwww.googleapis.com%2Fauth%2Fdrive.photos.readonly%20https%3A%2F%2Fwww.googleapis.com%2Fauth%2Fpeopleapi.readonly&response_type=code\n",
            "\n",
            "Enter your authorization code:\n",
            "··········\n",
            "Mounted at /drive\n"
          ],
          "name": "stdout"
        }
      ]
    },
    {
      "cell_type": "markdown",
      "metadata": {
        "id": "fRrOetKsg-RC",
        "colab_type": "text"
      },
      "source": [
        "# Import libraries"
      ]
    },
    {
      "cell_type": "code",
      "metadata": {
        "id": "XfwrINzwdmkn",
        "colab_type": "code",
        "outputId": "8ebc498e-3dbe-4375-f1b7-f4efbacad47b",
        "colab": {
          "base_uri": "https://localhost:8080/",
          "height": 51
        }
      },
      "source": [
        "%run \"{REPO/'Packages'/'.Importable.ipynb'}\"\n",
        "sys.path.append(REPO.as_posix())\n",
        "\n",
        "from Packages import Git, Files"
      ],
      "execution_count": 2,
      "outputs": [
        {
          "output_type": "display_data",
          "data": {
            "text/html": [
              "\n",
              "<style type='text/css'>\n",
              ".hll { background-color: #ffffcc }\n",
              ".c { color: #408080; font-style: italic } /* Comment */\n",
              ".err { border: 1px solid #FF0000 } /* Error */\n",
              ".k { color: #008000; font-weight: bold } /* Keyword */\n",
              ".o { color: #666666 } /* Operator */\n",
              ".ch { color: #408080; font-style: italic } /* Comment.Hashbang */\n",
              ".cm { color: #408080; font-style: italic } /* Comment.Multiline */\n",
              ".cp { color: #BC7A00 } /* Comment.Preproc */\n",
              ".cpf { color: #408080; font-style: italic } /* Comment.PreprocFile */\n",
              ".c1 { color: #408080; font-style: italic } /* Comment.Single */\n",
              ".cs { color: #408080; font-style: italic } /* Comment.Special */\n",
              ".gd { color: #A00000 } /* Generic.Deleted */\n",
              ".ge { font-style: italic } /* Generic.Emph */\n",
              ".gr { color: #FF0000 } /* Generic.Error */\n",
              ".gh { color: #000080; font-weight: bold } /* Generic.Heading */\n",
              ".gi { color: #00A000 } /* Generic.Inserted */\n",
              ".go { color: #888888 } /* Generic.Output */\n",
              ".gp { color: #000080; font-weight: bold } /* Generic.Prompt */\n",
              ".gs { font-weight: bold } /* Generic.Strong */\n",
              ".gu { color: #800080; font-weight: bold } /* Generic.Subheading */\n",
              ".gt { color: #0044DD } /* Generic.Traceback */\n",
              ".kc { color: #008000; font-weight: bold } /* Keyword.Constant */\n",
              ".kd { color: #008000; font-weight: bold } /* Keyword.Declaration */\n",
              ".kn { color: #008000; font-weight: bold } /* Keyword.Namespace */\n",
              ".kp { color: #008000 } /* Keyword.Pseudo */\n",
              ".kr { color: #008000; font-weight: bold } /* Keyword.Reserved */\n",
              ".kt { color: #B00040 } /* Keyword.Type */\n",
              ".m { color: #666666 } /* Literal.Number */\n",
              ".s { color: #BA2121 } /* Literal.String */\n",
              ".na { color: #7D9029 } /* Name.Attribute */\n",
              ".nb { color: #008000 } /* Name.Builtin */\n",
              ".nc { color: #0000FF; font-weight: bold } /* Name.Class */\n",
              ".no { color: #880000 } /* Name.Constant */\n",
              ".nd { color: #AA22FF } /* Name.Decorator */\n",
              ".ni { color: #999999; font-weight: bold } /* Name.Entity */\n",
              ".ne { color: #D2413A; font-weight: bold } /* Name.Exception */\n",
              ".nf { color: #0000FF } /* Name.Function */\n",
              ".nl { color: #A0A000 } /* Name.Label */\n",
              ".nn { color: #0000FF; font-weight: bold } /* Name.Namespace */\n",
              ".nt { color: #008000; font-weight: bold } /* Name.Tag */\n",
              ".nv { color: #19177C } /* Name.Variable */\n",
              ".ow { color: #AA22FF; font-weight: bold } /* Operator.Word */\n",
              ".w { color: #bbbbbb } /* Text.Whitespace */\n",
              ".mb { color: #666666 } /* Literal.Number.Bin */\n",
              ".mf { color: #666666 } /* Literal.Number.Float */\n",
              ".mh { color: #666666 } /* Literal.Number.Hex */\n",
              ".mi { color: #666666 } /* Literal.Number.Integer */\n",
              ".mo { color: #666666 } /* Literal.Number.Oct */\n",
              ".sb { color: #BA2121 } /* Literal.String.Backtick */\n",
              ".sc { color: #BA2121 } /* Literal.String.Char */\n",
              ".sd { color: #BA2121; font-style: italic } /* Literal.String.Doc */\n",
              ".s2 { color: #BA2121 } /* Literal.String.Double */\n",
              ".se { color: #BB6622; font-weight: bold } /* Literal.String.Escape */\n",
              ".sh { color: #BA2121 } /* Literal.String.Heredoc */\n",
              ".si { color: #BB6688; font-weight: bold } /* Literal.String.Interpol */\n",
              ".sx { color: #008000 } /* Literal.String.Other */\n",
              ".sr { color: #BB6688 } /* Literal.String.Regex */\n",
              ".s1 { color: #BA2121 } /* Literal.String.Single */\n",
              ".ss { color: #19177C } /* Literal.String.Symbol */\n",
              ".bp { color: #008000 } /* Name.Builtin.Pseudo */\n",
              ".vc { color: #19177C } /* Name.Variable.Class */\n",
              ".vg { color: #19177C } /* Name.Variable.Global */\n",
              ".vi { color: #19177C } /* Name.Variable.Instance */\n",
              ".il { color: #666666 } /* Literal.Number.Integer.Long */\n",
              "</style>\n"
            ],
            "text/plain": [
              "<IPython.core.display.HTML object>"
            ]
          },
          "metadata": {
            "tags": []
          }
        },
        {
          "output_type": "stream",
          "text": [
            "importing Jupyter notebook from /content/UniMelb---Database-Systems-Information-Modelling-INFO90002_2019_SM1/Packages/Git.ipynb\n",
            "importing Jupyter notebook from /content/UniMelb---Database-Systems-Information-Modelling-INFO90002_2019_SM1/Packages/Files.ipynb\n"
          ],
          "name": "stdout"
        }
      ]
    },
    {
      "cell_type": "markdown",
      "metadata": {
        "colab_type": "text",
        "id": "5sl8tFrDP67Z"
      },
      "source": [
        "# Download"
      ]
    },
    {
      "cell_type": "code",
      "metadata": {
        "id": "oknoyNQHF1nB",
        "colab_type": "code",
        "colab": {}
      },
      "source": [
        "authfile_uni = DRIVE / \"UniMelb Student\" / \"login.json\" # path to UniMelb authentication file"
      ],
      "execution_count": 0,
      "outputs": []
    },
    {
      "cell_type": "markdown",
      "metadata": {
        "id": "ORA_qxjTnZKg",
        "colab_type": "text"
      },
      "source": [
        "## Week 01 Introduction\n",
        "Extra materials:  \n",
        "* [Hoffer video](http://mediaplayer.pearsoncmg.com/_ph_bp2_cc_set.title.Chapter_1%26%2358%3B_Introduction_to_Databases__/bp_hoffer_mdm_10/hoffer10e_ch1_video.m4v)"
      ]
    },
    {
      "cell_type": "code",
      "metadata": {
        "id": "4gWwsdjJnpok",
        "colab_type": "code",
        "outputId": "38fa9d8f-411c-4901-c537-b7ffb2eb7670",
        "colab": {
          "base_uri": "https://localhost:8080/",
          "height": 34
        }
      },
      "source": [
        "urls = {\"W01_1-IntroToSubject.pdf\": \"https://app.lms.unimelb.edu.au/bbcswebdav/pid-6942842-dt-content-rid-57703905_2/courses/INFO90002_2019_SM1/lectures/W01_1-IntroToSubject.pdf\",\n",
        "        \"W01_2-IntroToDatabases.pdf\": \"https://app.lms.unimelb.edu.au/bbcswebdav/pid-6942842-dt-content-rid-57703906_2/courses/INFO90002_2019_SM1/lectures/W01_2-IntroToDatabases.pdf\",\n",
        "        \"W01_3-Design.pdf\": \"https://app.lms.unimelb.edu.au/bbcswebdav/pid-6942842-dt-content-rid-57703907_2/courses/INFO90002_2019_SM1/lectures/W01_3-Design.pdf\"}\n",
        "dest = \"Week 01 Introduction\"\n",
        "Files.download2(urls[\"W01_1-IntroToSubject.pdf\"], dest=dest, authfile=authfile_uni)\n",
        "Files.download2(urls[\"W01_2-IntroToDatabases.pdf\"], dest=dest, authfile=authfile_uni)\n",
        "Files.download2(urls[\"W01_3-Design.pdf\"], dest=dest, authfile=authfile_uni)"
      ],
      "execution_count": 0,
      "outputs": [
        {
          "output_type": "execute_result",
          "data": {
            "text/plain": [
              "PosixPath('/content/UniMelb---Database-Systems-Information-Modelling-INFO90002_2019_SM1/Week 01 Introduction/W01_3-Design.pdf')"
            ]
          },
          "metadata": {
            "tags": []
          },
          "execution_count": 9
        }
      ]
    },
    {
      "cell_type": "markdown",
      "metadata": {
        "colab_type": "text",
        "id": "ME1QvAuBN0Tc"
      },
      "source": [
        "## Week 02 Implementing a Database"
      ]
    },
    {
      "cell_type": "code",
      "metadata": {
        "colab_type": "code",
        "id": "rlGx8aeNN0Tm",
        "colab": {}
      },
      "source": [
        "urls = {\"W02_1-DesignImplement.pdf\": \"https://app.lms.unimelb.edu.au/bbcswebdav/pid-6942842-dt-content-rid-59203564_2/courses/INFO90002_2019_SM1/lectures/W02_1-DesignImplement.pdf\",\n",
        "        \"W02_2-DataModelling1.pdf\": \"https://app.lms.unimelb.edu.au/bbcswebdav/pid-6942842-dt-content-rid-59203565_2/courses/INFO90002_2019_SM1/lectures/W02_2-DataModelling1.pdf\",\n",
        "        \"Tutorial.pdf\": \"https://app.lms.unimelb.edu.au/bbcswebdav/pid-6942842-dt-content-rid-57842726_2/courses/INFO90002_2019_SM1/Wk%202%20Tutorial%20INFO90002%202019%20S1%20v2.pdf\",\n",
        "        \"TutorialSolutions.pdf\": \"https://app.lms.unimelb.edu.au/bbcswebdav/pid-6942837-dt-content-rid-59566552_2/courses/INFO90002_2019_SM1/Wk%202%20Tutorial%20INFO90002%202019%20v3%20S1%20Solution.pdf\"}\n",
        "dest = \"Week 02 Implementing a Database\"\n",
        "for name, url in urls.items():\n",
        "  Files.download2(url, dest=dest, name=name, authfile=authfile_uni)"
      ],
      "execution_count": 0,
      "outputs": []
    },
    {
      "cell_type": "markdown",
      "metadata": {
        "colab_type": "text",
        "id": "KdODAMjOk5FF"
      },
      "source": [
        "## Week 03 Data Modelling\n",
        "Extra materials:  \n",
        "* [Hoffer video](http://mediaplayer.pearsoncmg.com/_ph_bp2_cc_set.title.Chapter_6%26%2358%3B_Writing_SQL_Queries%26%2358%3B_Part_1_%26%23150%3B_Single_Table_Queries__/bp_hoffer_mdm_10/hoffer10e_ch6_video.m4v)"
      ]
    },
    {
      "cell_type": "code",
      "metadata": {
        "colab_type": "code",
        "id": "g5lu1XETk5FG",
        "colab": {}
      },
      "source": [
        "urls = {\"W03_1-DataModelling2.pdf\": \"https://app.lms.unimelb.edu.au/bbcswebdav/pid-6942842-dt-content-rid-59550657_2/courses/INFO90002_2019_SM1/lectures/W03_1-DataModelling2.pdf\",\n",
        "        \"W03_2-SQL1.pdf\": \"https://app.lms.unimelb.edu.au/bbcswebdav/pid-6942842-dt-content-rid-59550658_2/courses/INFO90002_2019_SM1/lectures/W03_2-SQL1.pdf\",\n",
        "        \"Tutorial.pdf\": \"https://app.lms.unimelb.edu.au/bbcswebdav/pid-6942842-dt-content-rid-57655075_2/courses/INFO90002_2019_SM1/Wk%203%20Tutorial%20INFO90002%202019%20S1%281%29.pdf\",\n",
        "        \"TutorialSolutions.pdf\": \"https://app.lms.unimelb.edu.au/bbcswebdav/pid-6942837-dt-content-rid-59644302_2/courses/INFO90002_2019_SM1/Wk%203%20Tutorial%20INFO90002%202019%20S1%20Solution.pdf\"}\n",
        "dest = \"Week 03 Data Modelling\"\n",
        "for name, url in urls.items():\n",
        "  Files.download2(url, dest=dest, name=name, authfile=authfile_uni)"
      ],
      "execution_count": 0,
      "outputs": []
    },
    {
      "cell_type": "markdown",
      "metadata": {
        "colab_type": "text",
        "id": "4gVfKuHb4_dN"
      },
      "source": [
        "## Week 04 Physical Design\n",
        "Extra materials:  \n",
        "* [Hoffer video](http://mediaplayer.pearsoncmg.com/_ph_bp2_cc_set.title.Chapter_7%26%2358%3B_Writing_SQL_Queries%26%2358%3B_Part_2_%26%23150%3B_Multiple_Table_Queries__/bp_hoffer_mdm_10/hoffer10e_ch7_video.m4v)"
      ]
    },
    {
      "cell_type": "code",
      "metadata": {
        "colab_type": "code",
        "id": "pm58EFX_4_dP",
        "colab": {}
      },
      "source": [
        "urls = {\"W04_1-PhysicalDesign.pdf\": \"https://app.lms.unimelb.edu.au/bbcswebdav/pid-6942842-dt-content-rid-59630905_2/courses/INFO90002_2019_SM1/lectures/W04_1-PhysicalDesign.pdf\",\n",
        "        \"W04_2-DataDictionaries.pdf\": \"https://app.lms.unimelb.edu.au/bbcswebdav/pid-6942842-dt-content-rid-59630906_2/courses/INFO90002_2019_SM1/lectures/W04_2-DataDictionaries.pdf\",\n",
        "        \"Tutorial.pdf\": \"https://app.lms.unimelb.edu.au/bbcswebdav/pid-6942842-dt-content-rid-57655093_2/courses/INFO90002_2019_SM1/Wk%204%20Tutorial%20INFO90002%202019%20S1%281%29.pdf\",\n",
        "        \"TutorialSolutions.pdf\": \"https://app.lms.unimelb.edu.au/bbcswebdav/pid-6942837-dt-content-rid-59796842_2/courses/INFO90002_2019_SM1/Wk%204%20Tutorial%20Answer%20INFO90002%202019%20S1.pdf\"}\n",
        "dest = \"Week 04 Physical Design\"\n",
        "for name, url in urls.items():\n",
        "  Files.download2(url, dest=dest, name=name, authfile=authfile_uni)"
      ],
      "execution_count": 0,
      "outputs": []
    },
    {
      "cell_type": "markdown",
      "metadata": {
        "colab_type": "text",
        "id": "y88ntQjT6Xz3"
      },
      "source": [
        "## Week 05 Normalisation\n",
        "Extra materials:  \n",
        "* [SE Radio](http://www.se-radio.net/2009/06/episode-137-sql-with-jim-melton/)"
      ]
    },
    {
      "cell_type": "code",
      "metadata": {
        "colab_type": "code",
        "id": "laO4p9f86Xz4",
        "colab": {}
      },
      "source": [
        "urls = {\"W05_1-Normalisation.pdf\": \"https://app.lms.unimelb.edu.au/bbcswebdav/pid-6942842-dt-content-rid-59704329_2/courses/INFO90002_2019_SM1/lectures/W05_1-Normalisation.pdf\",\n",
        "        \"W05_2-SQL2.pdf\": \"https://app.lms.unimelb.edu.au/bbcswebdav/pid-6942842-dt-content-rid-59704330_2/courses/INFO90002_2019_SM1/lectures/W05_2-SQL2.pdf\",\n",
        "        \"Tutorial.pdf\": \"https://app.lms.unimelb.edu.au/bbcswebdav/pid-6942842-dt-content-rid-57655094_2/courses/INFO90002_2019_SM1/Wk%205%20Tutorial%20INFO90002%202019%20S1.pdf\",\n",
        "        \"TutorialSolutions.pdf\": \"https://app.lms.unimelb.edu.au/bbcswebdav/pid-6942837-dt-content-rid-59972460_2/courses/INFO90002_2019_SM1/Wk%205%20Tutorial%20INFO90002%202019%20S1%20Solution.pdf\"}\n",
        "dest = \"Week 05 Normalisation\"\n",
        "for name, url in urls.items():\n",
        "  Files.download2(url, dest=dest, name=name, authfile=authfile_uni)"
      ],
      "execution_count": 0,
      "outputs": []
    },
    {
      "cell_type": "markdown",
      "metadata": {
        "colab_type": "text",
        "id": "9DAPJ5tNQ_iZ"
      },
      "source": [
        "## Week 06 SQL\n",
        "Extra materials:  \n",
        "* [Hoffer video](http://mediaplayer.pearsoncmg.com/_ph_bp2_cc_set.title.Chapter_4%26%2358%3B_Normalization__/bp_hoffer_mdm_10/hoffer10e_ch4_video.m4v)  \n",
        "* [MySQL data types](https://dev.mysql.com/doc/refman/8.0/en/data-types.html)"
      ]
    },
    {
      "cell_type": "code",
      "metadata": {
        "colab_type": "code",
        "id": "vAAj3pmbQ_ia",
        "colab": {}
      },
      "source": [
        "urls = {\"W06_1-SQL3.pdf\": \"https://app.lms.unimelb.edu.au/bbcswebdav/pid-6942842-dt-content-rid-59782693_2/courses/INFO90002_2019_SM1/W06_1-SQL3.pdf\",\n",
        "        \"Tutorial.pdf\": \"https://app.lms.unimelb.edu.au/bbcswebdav/pid-6942842-dt-content-rid-59810471_2/courses/INFO90002_2019_SM1/Wk%206%20Tutorial%20INFO90002%202019%20S1%20v2.pdf\",\n",
        "        \"TutorialSolutions.pdf\": \"https://app.lms.unimelb.edu.au/bbcswebdav/pid-6942837-dt-content-rid-60004213_2/courses/INFO90002_2019_SM1/Wk%206%20Tutorial%20INFO90002%202019%20S1%20Solution%281%29.pdf\"}\n",
        "dest = \"Week 06 SQL\"\n",
        "for name, url in urls.items():\n",
        "  Files.download2(url, dest=dest, name=name, authfile=authfile_uni)"
      ],
      "execution_count": 0,
      "outputs": []
    },
    {
      "cell_type": "markdown",
      "metadata": {
        "colab_type": "text",
        "id": "KHOLMy3oSvL0"
      },
      "source": [
        "## Week 07 Databases in Applications\n",
        "Extra materials:  \n",
        "* [O'Reilly video](http://player.oreilly.com/videos/9781491923320?toc_id=211283)  \n"
      ]
    },
    {
      "cell_type": "code",
      "metadata": {
        "colab_type": "code",
        "id": "9cs1UY5GSvL0",
        "colab": {}
      },
      "source": [
        "urls = {\"W07-Applications_fzk.pdf\": \"https://app.lms.unimelb.edu.au/bbcswebdav/pid-6942842-dt-content-rid-59884006_2/courses/INFO90002_2019_SM1/W07-Applications_fzk.pdf\",\n",
        "        \"W07-WebApps_fzk.pdf\": \"https://app.lms.unimelb.edu.au/bbcswebdav/pid-6942842-dt-content-rid-59884007_2/courses/INFO90002_2019_SM1/W07-WebApps_fzk.pdf\",\n",
        "        \"Tutorial.pdf\": \"https://app.lms.unimelb.edu.au/bbcswebdav/pid-6942842-dt-content-rid-57718629_2/courses/INFO90002_2019_SM1/Wk%207%20Tutorial%20INFO90002%202019%20S1.pdf\"}\n",
        "dest = \"Week 07 Databases in Applications\"\n",
        "for name, url in urls.items():\n",
        "  Files.download2(url, dest=dest, name=name, authfile=authfile_uni)"
      ],
      "execution_count": 0,
      "outputs": []
    },
    {
      "cell_type": "markdown",
      "metadata": {
        "colab_type": "text",
        "id": "_lFC-Z8j-stX"
      },
      "source": [
        "## Week 08 Data and Database Administration\n",
        "Extra materials:  \n",
        "* [MySQL](https://dev.mysql.com/doc/refman/8.0/en/server-administration.html)  \n",
        "* [Oracle](https://docs.oracle.com/cd/E11882_01/nav/portal_4.htm)  \n"
      ]
    },
    {
      "cell_type": "code",
      "metadata": {
        "colab_type": "code",
        "id": "CdVTBJ-T-stZ",
        "colab": {}
      },
      "source": [
        "urls = {\"W08-Transactions.pdf\": \"https://app.lms.unimelb.edu.au/bbcswebdav/pid-6942842-dt-content-rid-59980331_2/courses/INFO90002_2019_SM1/W08-Transactions%20v3b.pdf\",\n",
        "        \"W08-Database Administration.pdf\": \"https://app.lms.unimelb.edu.au/bbcswebdav/pid-6942842-dt-content-rid-59980339_2/courses/INFO90002_2019_SM1/W08%20DBA%20ADMIN_DE%20v4%281%29.pdf\",\n",
        "        \"Tutorial.pdf\": \"https://app.lms.unimelb.edu.au/bbcswebdav/pid-6942842-dt-content-rid-57718631_2/courses/INFO90002_2019_SM1/Wk%208%20Tutorial%20%20INFO90002%202019.pdf\"}\n",
        "dest = \"Week 08 Data and Database Administration\"\n",
        "for name, url in urls.items():\n",
        "  Files.download2(url, dest=dest, name=name, authfile=authfile_uni)"
      ],
      "execution_count": 0,
      "outputs": []
    },
    {
      "cell_type": "markdown",
      "metadata": {
        "colab_type": "text",
        "id": "hsS-XhedC8xu"
      },
      "source": [
        "## Week 09 Distributed Databases\n",
        "Extra materials:  \n",
        "* [Discussion](https://youtu.be/zxwsOueJU4Q)  \n"
      ]
    },
    {
      "cell_type": "code",
      "metadata": {
        "colab_type": "code",
        "id": "u2DnKeyrC8xx",
        "colab": {}
      },
      "source": [
        "urls = {\"MelbourneUniPwCPresentation.pdf\": \"https://app.lms.unimelb.edu.au/bbcswebdav/pid-6942842-dt-content-rid-60192887_2/courses/INFO90002_2019_SM1/Melbourne%20Uni%20-%20PwC%20Presentation%2020190506%281%29.pdf\",\n",
        "        \"W09-DistributedDatabases.pdf\": \"https://app.lms.unimelb.edu.au/bbcswebdav/pid-6942842-dt-content-rid-59980381_2/courses/INFO90002_2019_SM1/W09-DistributedDatabases%20v4.pdf\"}\n",
        "dest = \"Week 09 Distributed Databases\"\n",
        "for name, url in urls.items():\n",
        "  Files.download2(url, dest=dest, name=name, authfile=authfile_uni)"
      ],
      "execution_count": 0,
      "outputs": []
    },
    {
      "cell_type": "markdown",
      "metadata": {
        "colab_type": "text",
        "id": "Fa_zXOqRYoqA"
      },
      "source": [
        "## Week 10 Security & Ethics\n",
        "Extra materials:  \n",
        "* [Security & Ethics: A podcast on Immaneul Kant's Categorical Imperative](https://app.lms.unimelb.edu.au/bbcswebdav/pid-7466182-dt-content-rid-60174135_2/xid-60174135_2)  \n"
      ]
    },
    {
      "cell_type": "code",
      "metadata": {
        "colab_type": "code",
        "id": "DuWU6cWkYoqP",
        "colab": {}
      },
      "source": [
        "urls = {\"DWBAIntroINFO90002-2019.pdf\": \"https://app.lms.unimelb.edu.au/bbcswebdav/pid-6942842-dt-content-rid-60192886_2/courses/INFO90002_2019_SM1/DW%26BAIntro%20INFO90002%20-%202019.pdf\",\n",
        "        \"W10-Security_1_.pdf\": \"https://app.lms.unimelb.edu.au/bbcswebdav/pid-6942842-dt-content-rid-60192888_2/courses/INFO90002_2019_SM1/W10-Security_1_.pdf\",\n",
        "        \"W10_2-Cloud_DBs.pdf\": \"https://app.lms.unimelb.edu.au/bbcswebdav/pid-6942842-dt-content-rid-60182323_2/courses/INFO90002_2019_SM1/lectures/W10_2-Cloud_DBs.pdf\"}\n",
        "dest = \"Week 10 Security & Ethics\"\n",
        "for name, url in urls.items():\n",
        "  Files.download2(url, dest=dest, name=name, authfile=authfile_uni)"
      ],
      "execution_count": 0,
      "outputs": []
    },
    {
      "cell_type": "markdown",
      "metadata": {
        "colab_type": "text",
        "id": "1TAhuEZFy5Ja"
      },
      "source": [
        "## Week 11 NoSQL Databases"
      ]
    },
    {
      "cell_type": "code",
      "metadata": {
        "colab_type": "code",
        "id": "iHFgO69Ny5Ji",
        "colab": {}
      },
      "source": [
        "urls = {\"W11-NoSQL.pdf\": \"https://app.lms.unimelb.edu.au/bbcswebdav/pid-6942842-dt-content-rid-60315491_2/courses/INFO90002_2019_SM1/W11-NoSQL.pdf\"}\n",
        "dest = \"Week 11 NoSQL Databases\"\n",
        "for name, url in urls.items():\n",
        "  Files.download2(url, dest=dest, name=name, authfile=authfile_uni)"
      ],
      "execution_count": 0,
      "outputs": []
    },
    {
      "cell_type": "markdown",
      "metadata": {
        "colab_type": "text",
        "id": "_MdMgyC5Wt-U"
      },
      "source": [
        "## Revision"
      ]
    },
    {
      "cell_type": "code",
      "metadata": {
        "colab_type": "code",
        "id": "pssyFDsDWt-Y",
        "colab": {}
      },
      "source": [
        "urls = {\"INFO90002SubjectRevision1.pdf\": \"https://app.lms.unimelb.edu.au/bbcswebdav/pid-7478898-dt-content-rid-60310261_2/courses/INFO90002_2019_SM1/INFO90002%20Subject%20Revision%201.pdf\",\n",
        "        \"INFO90002SubjectRevision1Solutions.pdf\": \"https://app.lms.unimelb.edu.au/bbcswebdav/pid-7478898-dt-content-rid-60669755_2/courses/INFO90002_2019_SM1/Week%2011%20Review%20Solutions.pdf\",\n",
        "        \"INFO90002RevisionNo2.pdf\": \"https://app.lms.unimelb.edu.au/bbcswebdav/pid-7495828-dt-content-rid-60669766_2/courses/INFO90002_2019_SM1/INFO90002%20Revision%20No%202.pdf\",\n",
        "        \"INFO90002RevisionNo3.pdf\": \"https://app.lms.unimelb.edu.au/bbcswebdav/pid-7497564-dt-content-rid-61380605_2/courses/INFO90002_2019_SM1/INFO90002%20Revision%20No%203.pdf\"}\n",
        "dest = \"Revision\"\n",
        "for name, url in urls.items():\n",
        "  Files.download2(url, dest=dest, name=name, authfile=authfile_uni)"
      ],
      "execution_count": 0,
      "outputs": []
    },
    {
      "cell_type": "markdown",
      "metadata": {
        "colab_type": "text",
        "id": "BI_WQK_5ohsb"
      },
      "source": [
        "## Assignment 1 ER Modelling"
      ]
    },
    {
      "cell_type": "code",
      "metadata": {
        "colab_type": "code",
        "id": "oNMv8K61ohsf",
        "colab": {}
      },
      "source": [
        "urls = {\"Assignment 1 ER Modelling.pdf\": \"https://app.lms.unimelb.edu.au/bbcswebdav/pid-7405982-dt-content-rid-59226013_2/courses/INFO90002_2019_SM1/INFO90002%20S1%202019%20A1.pdf\",\n",
        "        \"INFO90002 A1 Suggested Solution.pdf\": \"https://app.lms.unimelb.edu.au/bbcswebdav/pid-7469209-dt-content-rid-60236936_2/courses/INFO90002_2019_SM1/INFO90002%20A1%20Suggested%20Solution.pdf\"}\n",
        "dest = \"Assignment 1 ER Modelling\"\n",
        "for name, url in urls.items():\n",
        "  Files.download2(url, dest=dest, name=name, authfile=authfile_uni)"
      ],
      "execution_count": 0,
      "outputs": []
    },
    {
      "cell_type": "markdown",
      "metadata": {
        "colab_type": "text",
        "id": "Wy-2mENaTiq_"
      },
      "source": [
        "## Assignment 2 SQL"
      ]
    },
    {
      "cell_type": "code",
      "metadata": {
        "colab_type": "code",
        "id": "mnOAk04ZTirA",
        "colab": {}
      },
      "source": [
        "urls = {\"Assignment 2 SQL.pdf\": \"https://app.lms.unimelb.edu.au/bbcswebdav/pid-7434770-dt-content-rid-59816927_2/courses/INFO90002_2019_SM1/INFO90002%20S1%202019%20A2.pdf\"}\n",
        "dest = \"Assignment 2 SQL\"\n",
        "for name, url in urls.items():\n",
        "  Files.download2(url, dest=dest, name=name, authfile=authfile_uni)"
      ],
      "execution_count": 0,
      "outputs": []
    },
    {
      "cell_type": "markdown",
      "metadata": {
        "id": "7ILM4JyuLzue",
        "colab_type": "text"
      },
      "source": [
        "# Push repository"
      ]
    },
    {
      "cell_type": "code",
      "metadata": {
        "id": "IctLlekpKkaO",
        "colab_type": "code",
        "colab": {}
      },
      "source": [
        "confile_git = DRIVE.joinpath(\"GitHub/config.json\") # path to GitHub configuration file\n",
        "authfile_git = DRIVE.joinpath(\"GitHub/login.json\") # path to GitHub authentication file"
      ],
      "execution_count": 0,
      "outputs": []
    },
    {
      "cell_type": "code",
      "metadata": {
        "id": "RqifDMhBglwC",
        "colab_type": "code",
        "outputId": "37687104-3bfb-4bc9-d1f8-7259c86ae8a2",
        "colab": {
          "base_uri": "https://localhost:8080/",
          "height": 272
        }
      },
      "source": [
        "message = \"Update Week 02, 03, 04, 05, 06\"\n",
        "\n",
        "# Configure\n",
        "Git.config(confile=confile_git)\n",
        "\n",
        "# Track\n",
        "!git add -A\n",
        "\n",
        "# Commit\n",
        "!git commit -m \"{message}\"\n",
        "\n",
        "# Push\n",
        "Git.push(URL, authfile=authfile_git)"
      ],
      "execution_count": 10,
      "outputs": [
        {
          "output_type": "stream",
          "text": [
            "[master 15f44d5] Update Week 02, 03, 04, 05, 06\n",
            " 5 files changed, 0 insertions(+), 0 deletions(-)\n",
            " create mode 100644 Week 02 Implementing a Database/TutorialSolutions.pdf\n",
            " create mode 100644 Week 03 Data Modelling/TutorialSolutions.pdf\n",
            " create mode 100644 Week 04 Physical Design/TutorialSolutions.pdf\n",
            " create mode 100644 Week 05 Normalisation/TutorialSolutions.pdf\n",
            " create mode 100644 Week 06 SQL/TutorialSolutions.pdf\n",
            "Counting objects: 12, done.\n",
            "Delta compression using up to 2 threads.\n",
            "Compressing objects: 100% (12/12), done.\n",
            "Writing objects: 100% (12/12), 2.44 MiB | 876.00 KiB/s, done.\n",
            "Total 12 (delta 3), reused 0 (delta 0)\n",
            "remote: Resolving deltas: 100% (3/3), completed with 3 local objects.\u001b[K\n",
            "To https://github.com/Data-Science-and-Data-Analytics-Courses/UniMelb---Database-Systems-Information-Modelling-INFO90002_2019_SM1\n",
            "   6c97ff0..15f44d5  HEAD -> master\n"
          ],
          "name": "stdout"
        }
      ]
    }
  ]
}
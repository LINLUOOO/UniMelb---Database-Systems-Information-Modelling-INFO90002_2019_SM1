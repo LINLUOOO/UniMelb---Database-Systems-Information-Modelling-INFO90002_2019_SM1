{
  "nbformat": 4,
  "nbformat_minor": 0,
  "metadata": {
    "colab": {
      "name": "Resources.ipynb",
      "version": "0.3.2",
      "provenance": [],
      "include_colab_link": true
    },
    "kernelspec": {
      "name": "python3",
      "display_name": "Python 3"
    },
    "accelerator": "GPU"
  },
  "cells": [
    {
      "cell_type": "markdown",
      "metadata": {
        "id": "view-in-github",
        "colab_type": "text"
      },
      "source": [
        "<a href=\"https://colab.research.google.com/github/Data-Science-and-Data-Analytics-Courses/UniMelb---Database-Systems-Information-Modelling-INFO90002_2019_SM1/blob/master/Resources.ipynb\" target=\"_parent\"><img src=\"https://colab.research.google.com/assets/colab-badge.svg\" alt=\"Open In Colab\"/></a>"
      ]
    },
    {
      "metadata": {
        "colab_type": "text",
        "id": "UdDQ4H0VmPpJ"
      },
      "cell_type": "markdown",
      "source": [
        "# Clone remote"
      ]
    },
    {
      "metadata": {
        "colab_type": "code",
        "id": "cXqTKogHXEr9",
        "outputId": "ce19d4c2-1410-44ec-bde5-281c8358aaf5",
        "colab": {
          "base_uri": "https://localhost:8080/",
          "height": 224
        }
      },
      "cell_type": "code",
      "source": [
        "import os, sys\n",
        "from google.colab import drive\n",
        "from urllib.parse import urlsplit\n",
        "from pathlib import Path\n",
        "\n",
        "URL = \"https://github.com/Data-Science-and-Data-Analytics-Courses/UniMelb---Database-Systems-Information-Modelling-INFO90002_2019_SM1\"\n",
        "DRIVE = Path(\"/drive\", \"My Drive\")\n",
        "nbdir_rel = \"\"\n",
        "\n",
        "def clone(url, dest=\".\", name=\"\", options=\"--single-branch -b master\", reloc=True):\n",
        "  \"\"\"\n",
        "  Clone url into dest\n",
        "  name: if provided, rename repository\n",
        "  options: supported by git-clone (https://git-scm.com/docs/git-clone)\n",
        "  reloc: if True, relocate to repository\n",
        "  \"\"\"\n",
        "\n",
        "  rurl = urlsplit(url)\n",
        "  dest = Path(dest).resolve()\n",
        "  repo = dest / (name or Path(rurl.path).name)\n",
        "\n",
        "  # Nested repositories not allowed\n",
        "  out = !git -C \"{dest}\" rev-parse\n",
        "  if not out: # inside repository\n",
        "    raise ValueError(\"Can't clone into existing repository\")\n",
        "  \n",
        "  # Clone\n",
        "  !git clone {options} \"{rurl.geturl()}\" \"{repo}\"\n",
        "  \n",
        "  # Relocate\n",
        "  if reloc:\n",
        "    os.chdir(repo)\n",
        "\n",
        "  return repo\n",
        "  \n",
        "REPO = clone(URL)\n",
        "drive.mount(DRIVE.parent.as_posix())\n",
        "NBDIR = REPO/nbdir_rel\n",
        "os.chdir(NBDIR)"
      ],
      "execution_count": 1,
      "outputs": [
        {
          "output_type": "stream",
          "text": [
            "Cloning into '/content/UniMelb---Database-Systems-Information-Modelling-INFO90002_2019_SM1'...\n",
            "remote: Enumerating objects: 81, done.\u001b[K\n",
            "remote: Counting objects: 100% (81/81), done.\u001b[K\n",
            "remote: Compressing objects: 100% (76/76), done.\u001b[K\n",
            "remote: Total 81 (delta 36), reused 25 (delta 5), pack-reused 0\u001b[K\n",
            "Unpacking objects: 100% (81/81), done.\n",
            "Go to this URL in a browser: https://accounts.google.com/o/oauth2/auth?client_id=947318989803-6bn6qk8qdgf4n4g3pfee6491hc0brc4i.apps.googleusercontent.com&redirect_uri=urn%3Aietf%3Awg%3Aoauth%3A2.0%3Aoob&scope=email%20https%3A%2F%2Fwww.googleapis.com%2Fauth%2Fdocs.test%20https%3A%2F%2Fwww.googleapis.com%2Fauth%2Fdrive%20https%3A%2F%2Fwww.googleapis.com%2Fauth%2Fdrive.photos.readonly%20https%3A%2F%2Fwww.googleapis.com%2Fauth%2Fpeopleapi.readonly&response_type=code\n",
            "\n",
            "Enter your authorization code:\n",
            "··········\n",
            "Mounted at /drive\n"
          ],
          "name": "stdout"
        }
      ]
    },
    {
      "metadata": {
        "id": "fRrOetKsg-RC",
        "colab_type": "text"
      },
      "cell_type": "markdown",
      "source": [
        "# Import libraries"
      ]
    },
    {
      "metadata": {
        "id": "XfwrINzwdmkn",
        "colab_type": "code",
        "outputId": "82e78851-1258-4cb4-94f9-dee73fd9d67d",
        "colab": {
          "base_uri": "https://localhost:8080/",
          "height": 51
        }
      },
      "cell_type": "code",
      "source": [
        "%run \"{REPO/'Packages'/'.Importable.ipynb'}\"\n",
        "sys.path.append(REPO.as_posix())\n",
        "\n",
        "from Packages import Git, Files"
      ],
      "execution_count": 2,
      "outputs": [
        {
          "output_type": "display_data",
          "data": {
            "text/html": [
              "\n",
              "<style type='text/css'>\n",
              ".hll { background-color: #ffffcc }\n",
              ".c { color: #408080; font-style: italic } /* Comment */\n",
              ".err { border: 1px solid #FF0000 } /* Error */\n",
              ".k { color: #008000; font-weight: bold } /* Keyword */\n",
              ".o { color: #666666 } /* Operator */\n",
              ".ch { color: #408080; font-style: italic } /* Comment.Hashbang */\n",
              ".cm { color: #408080; font-style: italic } /* Comment.Multiline */\n",
              ".cp { color: #BC7A00 } /* Comment.Preproc */\n",
              ".cpf { color: #408080; font-style: italic } /* Comment.PreprocFile */\n",
              ".c1 { color: #408080; font-style: italic } /* Comment.Single */\n",
              ".cs { color: #408080; font-style: italic } /* Comment.Special */\n",
              ".gd { color: #A00000 } /* Generic.Deleted */\n",
              ".ge { font-style: italic } /* Generic.Emph */\n",
              ".gr { color: #FF0000 } /* Generic.Error */\n",
              ".gh { color: #000080; font-weight: bold } /* Generic.Heading */\n",
              ".gi { color: #00A000 } /* Generic.Inserted */\n",
              ".go { color: #888888 } /* Generic.Output */\n",
              ".gp { color: #000080; font-weight: bold } /* Generic.Prompt */\n",
              ".gs { font-weight: bold } /* Generic.Strong */\n",
              ".gu { color: #800080; font-weight: bold } /* Generic.Subheading */\n",
              ".gt { color: #0044DD } /* Generic.Traceback */\n",
              ".kc { color: #008000; font-weight: bold } /* Keyword.Constant */\n",
              ".kd { color: #008000; font-weight: bold } /* Keyword.Declaration */\n",
              ".kn { color: #008000; font-weight: bold } /* Keyword.Namespace */\n",
              ".kp { color: #008000 } /* Keyword.Pseudo */\n",
              ".kr { color: #008000; font-weight: bold } /* Keyword.Reserved */\n",
              ".kt { color: #B00040 } /* Keyword.Type */\n",
              ".m { color: #666666 } /* Literal.Number */\n",
              ".s { color: #BA2121 } /* Literal.String */\n",
              ".na { color: #7D9029 } /* Name.Attribute */\n",
              ".nb { color: #008000 } /* Name.Builtin */\n",
              ".nc { color: #0000FF; font-weight: bold } /* Name.Class */\n",
              ".no { color: #880000 } /* Name.Constant */\n",
              ".nd { color: #AA22FF } /* Name.Decorator */\n",
              ".ni { color: #999999; font-weight: bold } /* Name.Entity */\n",
              ".ne { color: #D2413A; font-weight: bold } /* Name.Exception */\n",
              ".nf { color: #0000FF } /* Name.Function */\n",
              ".nl { color: #A0A000 } /* Name.Label */\n",
              ".nn { color: #0000FF; font-weight: bold } /* Name.Namespace */\n",
              ".nt { color: #008000; font-weight: bold } /* Name.Tag */\n",
              ".nv { color: #19177C } /* Name.Variable */\n",
              ".ow { color: #AA22FF; font-weight: bold } /* Operator.Word */\n",
              ".w { color: #bbbbbb } /* Text.Whitespace */\n",
              ".mb { color: #666666 } /* Literal.Number.Bin */\n",
              ".mf { color: #666666 } /* Literal.Number.Float */\n",
              ".mh { color: #666666 } /* Literal.Number.Hex */\n",
              ".mi { color: #666666 } /* Literal.Number.Integer */\n",
              ".mo { color: #666666 } /* Literal.Number.Oct */\n",
              ".sb { color: #BA2121 } /* Literal.String.Backtick */\n",
              ".sc { color: #BA2121 } /* Literal.String.Char */\n",
              ".sd { color: #BA2121; font-style: italic } /* Literal.String.Doc */\n",
              ".s2 { color: #BA2121 } /* Literal.String.Double */\n",
              ".se { color: #BB6622; font-weight: bold } /* Literal.String.Escape */\n",
              ".sh { color: #BA2121 } /* Literal.String.Heredoc */\n",
              ".si { color: #BB6688; font-weight: bold } /* Literal.String.Interpol */\n",
              ".sx { color: #008000 } /* Literal.String.Other */\n",
              ".sr { color: #BB6688 } /* Literal.String.Regex */\n",
              ".s1 { color: #BA2121 } /* Literal.String.Single */\n",
              ".ss { color: #19177C } /* Literal.String.Symbol */\n",
              ".bp { color: #008000 } /* Name.Builtin.Pseudo */\n",
              ".vc { color: #19177C } /* Name.Variable.Class */\n",
              ".vg { color: #19177C } /* Name.Variable.Global */\n",
              ".vi { color: #19177C } /* Name.Variable.Instance */\n",
              ".il { color: #666666 } /* Literal.Number.Integer.Long */\n",
              "</style>\n"
            ],
            "text/plain": [
              "<IPython.core.display.HTML object>"
            ]
          },
          "metadata": {
            "tags": []
          }
        },
        {
          "output_type": "stream",
          "text": [
            "importing Jupyter notebook from /content/UniMelb---Database-Systems-Information-Modelling-INFO90002_2019_SM1/Packages/Git.ipynb\n",
            "importing Jupyter notebook from /content/UniMelb---Database-Systems-Information-Modelling-INFO90002_2019_SM1/Packages/Files.ipynb\n"
          ],
          "name": "stdout"
        }
      ]
    },
    {
      "metadata": {
        "colab_type": "text",
        "id": "5sl8tFrDP67Z"
      },
      "cell_type": "markdown",
      "source": [
        "# Download"
      ]
    },
    {
      "metadata": {
        "id": "oknoyNQHF1nB",
        "colab_type": "code",
        "colab": {}
      },
      "cell_type": "code",
      "source": [
        "authfile_uni = DRIVE / \"UniMelb Student\" / \"login.json\" # path to UniMelb authentication file"
      ],
      "execution_count": 0,
      "outputs": []
    },
    {
      "metadata": {
        "id": "ORA_qxjTnZKg",
        "colab_type": "text"
      },
      "cell_type": "markdown",
      "source": [
        "## Week 01 Introduction\n",
        "Extra materials:  \n",
        "* [Hoffer video](http://mediaplayer.pearsoncmg.com/_ph_bp2_cc_set.title.Chapter_1%26%2358%3B_Introduction_to_Databases__/bp_hoffer_mdm_10/hoffer10e_ch1_video.m4v)"
      ]
    },
    {
      "metadata": {
        "id": "4gWwsdjJnpok",
        "colab_type": "code",
        "outputId": "38fa9d8f-411c-4901-c537-b7ffb2eb7670",
        "colab": {
          "base_uri": "https://localhost:8080/",
          "height": 34
        }
      },
      "cell_type": "code",
      "source": [
        "urls = {\"W01_1-IntroToSubject.pdf\": \"https://app.lms.unimelb.edu.au/bbcswebdav/pid-6942842-dt-content-rid-57703905_2/courses/INFO90002_2019_SM1/lectures/W01_1-IntroToSubject.pdf\",\n",
        "        \"W01_2-IntroToDatabases.pdf\": \"https://app.lms.unimelb.edu.au/bbcswebdav/pid-6942842-dt-content-rid-57703906_2/courses/INFO90002_2019_SM1/lectures/W01_2-IntroToDatabases.pdf\",\n",
        "        \"W01_3-Design.pdf\": \"https://app.lms.unimelb.edu.au/bbcswebdav/pid-6942842-dt-content-rid-57703907_2/courses/INFO90002_2019_SM1/lectures/W01_3-Design.pdf\"}\n",
        "dest = \"Week 01 Introduction\"\n",
        "Files.download2(urls[\"W01_1-IntroToSubject.pdf\"], dest=dest, authfile=authfile_uni)\n",
        "Files.download2(urls[\"W01_2-IntroToDatabases.pdf\"], dest=dest, authfile=authfile_uni)\n",
        "Files.download2(urls[\"W01_3-Design.pdf\"], dest=dest, authfile=authfile_uni)"
      ],
      "execution_count": 0,
      "outputs": [
        {
          "output_type": "execute_result",
          "data": {
            "text/plain": [
              "PosixPath('/content/UniMelb---Database-Systems-Information-Modelling-INFO90002_2019_SM1/Week 01 Introduction/W01_3-Design.pdf')"
            ]
          },
          "metadata": {
            "tags": []
          },
          "execution_count": 9
        }
      ]
    },
    {
      "metadata": {
        "colab_type": "text",
        "id": "ME1QvAuBN0Tc"
      },
      "cell_type": "markdown",
      "source": [
        "## Week 02 Implementing a Database"
      ]
    },
    {
      "metadata": {
        "colab_type": "code",
        "id": "rlGx8aeNN0Tm",
        "colab": {}
      },
      "cell_type": "code",
      "source": [
        "urls = {\"W02_1-DesignImplement.pdf\": \"https://app.lms.unimelb.edu.au/bbcswebdav/pid-6942842-dt-content-rid-59203564_2/courses/INFO90002_2019_SM1/lectures/W02_1-DesignImplement.pdf\",\n",
        "        \"W02_2-DataModelling1.pdf\": \"https://app.lms.unimelb.edu.au/bbcswebdav/pid-6942842-dt-content-rid-59203565_2/courses/INFO90002_2019_SM1/lectures/W02_2-DataModelling1.pdf\",\n",
        "        \"Tutorial.pdf\": \"https://app.lms.unimelb.edu.au/bbcswebdav/pid-6942842-dt-content-rid-57842726_2/courses/INFO90002_2019_SM1/Wk%202%20Tutorial%20INFO90002%202019%20S1%20v2.pdf\"}\n",
        "dest = \"Week 02 Implementing a Database\"\n",
        "for name, url in urls.items():\n",
        "  Files.download2(url, dest=dest, name=name, authfile=authfile_uni)"
      ],
      "execution_count": 0,
      "outputs": []
    },
    {
      "metadata": {
        "colab_type": "text",
        "id": "KdODAMjOk5FF"
      },
      "cell_type": "markdown",
      "source": [
        "## Week 03 Data Modelling\n",
        "Extra materials:  \n",
        "* [Hoffer video](http://mediaplayer.pearsoncmg.com/_ph_bp2_cc_set.title.Chapter_6%26%2358%3B_Writing_SQL_Queries%26%2358%3B_Part_1_%26%23150%3B_Single_Table_Queries__/bp_hoffer_mdm_10/hoffer10e_ch6_video.m4v)"
      ]
    },
    {
      "metadata": {
        "colab_type": "code",
        "id": "g5lu1XETk5FG",
        "colab": {}
      },
      "cell_type": "code",
      "source": [
        "urls = {\"W03_1-DataModelling2.pdf\": \"https://app.lms.unimelb.edu.au/bbcswebdav/pid-6942842-dt-content-rid-59550657_2/courses/INFO90002_2019_SM1/lectures/W03_1-DataModelling2.pdf\",\n",
        "        \"W03_2-SQL1.pdf\": \"https://app.lms.unimelb.edu.au/bbcswebdav/pid-6942842-dt-content-rid-59550658_2/courses/INFO90002_2019_SM1/lectures/W03_2-SQL1.pdf\",\n",
        "        \"Tutorial.pdf\": \"https://app.lms.unimelb.edu.au/bbcswebdav/pid-6942842-dt-content-rid-57655075_2/courses/INFO90002_2019_SM1/Wk%203%20Tutorial%20INFO90002%202019%20S1%281%29.pdf\"}\n",
        "dest = \"Week 03 Data Modelling\"\n",
        "for name, url in urls.items():\n",
        "  Files.download2(url, dest=dest, name=name, authfile=authfile_uni)"
      ],
      "execution_count": 0,
      "outputs": []
    },
    {
      "metadata": {
        "colab_type": "text",
        "id": "4gVfKuHb4_dN"
      },
      "cell_type": "markdown",
      "source": [
        "## Week 04 Physical Design\n",
        "Extra materials:  \n",
        "* [Hoffer video](http://mediaplayer.pearsoncmg.com/_ph_bp2_cc_set.title.Chapter_7%26%2358%3B_Writing_SQL_Queries%26%2358%3B_Part_2_%26%23150%3B_Multiple_Table_Queries__/bp_hoffer_mdm_10/hoffer10e_ch7_video.m4v)"
      ]
    },
    {
      "metadata": {
        "colab_type": "code",
        "id": "pm58EFX_4_dP",
        "colab": {}
      },
      "cell_type": "code",
      "source": [
        "urls = {\"W04_1-PhysicalDesign.pdf\": \"https://app.lms.unimelb.edu.au/bbcswebdav/pid-6942842-dt-content-rid-59630905_2/courses/INFO90002_2019_SM1/lectures/W04_1-PhysicalDesign.pdf\",\n",
        "        \"W04_2-DataDictionaries.pdf\": \"https://app.lms.unimelb.edu.au/bbcswebdav/pid-6942842-dt-content-rid-59630906_2/courses/INFO90002_2019_SM1/lectures/W04_2-DataDictionaries.pdf\",\n",
        "        \"Tutorial.pdf\": \"https://app.lms.unimelb.edu.au/bbcswebdav/pid-6942842-dt-content-rid-57655093_2/courses/INFO90002_2019_SM1/Wk%204%20Tutorial%20INFO90002%202019%20S1%281%29.pdf\"}\n",
        "dest = \"Week 04 Physical Design\"\n",
        "for name, url in urls.items():\n",
        "  Files.download2(url, dest=dest, name=name, authfile=authfile_uni)"
      ],
      "execution_count": 0,
      "outputs": []
    },
    {
      "metadata": {
        "colab_type": "text",
        "id": "y88ntQjT6Xz3"
      },
      "cell_type": "markdown",
      "source": [
        "## Week 05 Normalisation\n",
        "Extra materials:  \n",
        "* [SE Radio](http://www.se-radio.net/2009/06/episode-137-sql-with-jim-melton/)"
      ]
    },
    {
      "metadata": {
        "colab_type": "code",
        "id": "laO4p9f86Xz4",
        "colab": {}
      },
      "cell_type": "code",
      "source": [
        "urls = {\"W05_1-Normalisation.pdf\": \"https://app.lms.unimelb.edu.au/bbcswebdav/pid-6942842-dt-content-rid-59704329_2/courses/INFO90002_2019_SM1/lectures/W05_1-Normalisation.pdf\",\n",
        "        \"W05_2-SQL2.pdf\": \"https://app.lms.unimelb.edu.au/bbcswebdav/pid-6942842-dt-content-rid-59704330_2/courses/INFO90002_2019_SM1/lectures/W05_2-SQL2.pdf\",\n",
        "        \"Tutorial.pdf\": \"https://app.lms.unimelb.edu.au/bbcswebdav/pid-6942842-dt-content-rid-57655094_2/courses/INFO90002_2019_SM1/Wk%205%20Tutorial%20INFO90002%202019%20S1.pdf\"}\n",
        "dest = \"Week 05 Normalisation\"\n",
        "for name, url in urls.items():\n",
        "  Files.download2(url, dest=dest, name=name, authfile=authfile_uni)"
      ],
      "execution_count": 0,
      "outputs": []
    },
    {
      "metadata": {
        "colab_type": "text",
        "id": "9DAPJ5tNQ_iZ"
      },
      "cell_type": "markdown",
      "source": [
        "## Week 06 SQL\n",
        "Extra materials:  \n",
        "* [Hoffer video](http://mediaplayer.pearsoncmg.com/_ph_bp2_cc_set.title.Chapter_4%26%2358%3B_Normalization__/bp_hoffer_mdm_10/hoffer10e_ch4_video.m4v)  \n",
        "* [MySQL data types](https://dev.mysql.com/doc/refman/8.0/en/data-types.html)"
      ]
    },
    {
      "metadata": {
        "colab_type": "code",
        "id": "vAAj3pmbQ_ia",
        "colab": {}
      },
      "cell_type": "code",
      "source": [
        "urls = {\"W06_1-SQL3.pdf\": \"https://app.lms.unimelb.edu.au/bbcswebdav/pid-6942842-dt-content-rid-59782693_2/courses/INFO90002_2019_SM1/W06_1-SQL3.pdf\",\n",
        "        \"Tutorial.pdf\": \"https://app.lms.unimelb.edu.au/bbcswebdav/pid-6942842-dt-content-rid-59810471_2/courses/INFO90002_2019_SM1/Wk%206%20Tutorial%20INFO90002%202019%20S1%20v2.pdf\"}\n",
        "dest = \"Week 06 SQL\"\n",
        "for name, url in urls.items():\n",
        "  Files.download2(url, dest=dest, name=name, authfile=authfile_uni)"
      ],
      "execution_count": 0,
      "outputs": []
    },
    {
      "metadata": {
        "colab_type": "text",
        "id": "KHOLMy3oSvL0"
      },
      "cell_type": "markdown",
      "source": [
        "## Week 07 Databases in Applications\n",
        "Extra materials:  \n",
        "* [O'Reilly video](http://player.oreilly.com/videos/9781491923320?toc_id=211283)  \n"
      ]
    },
    {
      "metadata": {
        "colab_type": "code",
        "id": "9cs1UY5GSvL0",
        "colab": {}
      },
      "cell_type": "code",
      "source": [
        "urls = {\"Tutorial.pdf\": \"https://app.lms.unimelb.edu.au/bbcswebdav/pid-6942842-dt-content-rid-57718629_2/courses/INFO90002_2019_SM1/Wk%207%20Tutorial%20INFO90002%202019%20S1.pdf\"}\n",
        "dest = \"Week 07 Databases in Applications\"\n",
        "for name, url in urls.items():\n",
        "  Files.download2(url, dest=dest, name=name, authfile=authfile_uni)"
      ],
      "execution_count": 0,
      "outputs": []
    },
    {
      "metadata": {
        "colab_type": "text",
        "id": "BI_WQK_5ohsb"
      },
      "cell_type": "markdown",
      "source": [
        "## Assignment 1 ER Modelling"
      ]
    },
    {
      "metadata": {
        "colab_type": "code",
        "id": "oNMv8K61ohsf",
        "colab": {}
      },
      "cell_type": "code",
      "source": [
        "urls = {\"Assignment 1 ER Modelling.pdf\": \"https://app.lms.unimelb.edu.au/bbcswebdav/pid-7405982-dt-content-rid-59226013_2/courses/INFO90002_2019_SM1/INFO90002%20S1%202019%20A1.pdf\"}\n",
        "dest = \"Assignment 1 ER Modelling\"\n",
        "for name, url in urls.items():\n",
        "  Files.download2(url, dest=dest, name=name, authfile=authfile_uni)"
      ],
      "execution_count": 0,
      "outputs": []
    },
    {
      "metadata": {
        "colab_type": "text",
        "id": "Wy-2mENaTiq_"
      },
      "cell_type": "markdown",
      "source": [
        "## Assignment 2 SQL"
      ]
    },
    {
      "metadata": {
        "colab_type": "code",
        "id": "mnOAk04ZTirA",
        "colab": {}
      },
      "cell_type": "code",
      "source": [
        "urls = {\"Assignment 2 SQL.pdf\": \"https://app.lms.unimelb.edu.au/bbcswebdav/pid-7434770-dt-content-rid-59816927_2/courses/INFO90002_2019_SM1/INFO90002%20S1%202019%20A2.pdf\"}\n",
        "dest = \"Assignment 2 SQL\"\n",
        "for name, url in urls.items():\n",
        "  Files.download2(url, dest=dest, name=name, authfile=authfile_uni)"
      ],
      "execution_count": 0,
      "outputs": []
    },
    {
      "metadata": {
        "id": "7ILM4JyuLzue",
        "colab_type": "text"
      },
      "cell_type": "markdown",
      "source": [
        "# Push repository"
      ]
    },
    {
      "metadata": {
        "id": "IctLlekpKkaO",
        "colab_type": "code",
        "colab": {}
      },
      "cell_type": "code",
      "source": [
        "confile_git = DRIVE.joinpath(\"GitHub/config.json\") # path to GitHub configuration file\n",
        "authfile_git = DRIVE.joinpath(\"GitHub/login.json\") # path to GitHub authentication file"
      ],
      "execution_count": 0,
      "outputs": []
    },
    {
      "metadata": {
        "id": "RqifDMhBglwC",
        "colab_type": "code",
        "outputId": "d923d0ab-bea1-4654-ace6-59dbd2fc5164",
        "colab": {
          "base_uri": "https://localhost:8080/",
          "height": 204
        }
      },
      "cell_type": "code",
      "source": [
        "message = \"Update Assignment 2\"\n",
        "\n",
        "# Configure\n",
        "Git.config(confile=confile_git)\n",
        "\n",
        "# Track\n",
        "!git add -A\n",
        "\n",
        "# Commit\n",
        "!git commit -m \"{message}\"\n",
        "\n",
        "# Push\n",
        "Git.push(URL, authfile=authfile_git)"
      ],
      "execution_count": 13,
      "outputs": [
        {
          "output_type": "stream",
          "text": [
            "[master 0482610] Update Assignment 2\n",
            " 1 file changed, 0 insertions(+), 0 deletions(-)\n",
            " create mode 100644 Assignment 2 SQL/Assignment 2 SQL.pdf\n",
            "Counting objects: 4, done.\n",
            "Delta compression using up to 2 threads.\n",
            "Compressing objects: 100% (3/3), done.\n",
            "Writing objects: 100% (4/4), 178.04 KiB | 16.18 MiB/s, done.\n",
            "Total 4 (delta 1), reused 0 (delta 0)\n",
            "remote: Resolving deltas: 100% (1/1), completed with 1 local object.\u001b[K\n",
            "To https://github.com/Data-Science-and-Data-Analytics-Courses/UniMelb---Database-Systems-Information-Modelling-INFO90002_2019_SM1\n",
            "   a62b268..0482610  HEAD -> master\n"
          ],
          "name": "stdout"
        }
      ]
    }
  ]
}
{
  "nbformat": 4,
  "nbformat_minor": 0,
  "metadata": {
    "colab": {
      "name": "Files.ipynb",
      "version": "0.3.2",
      "provenance": [],
      "collapsed_sections": [],
      "include_colab_link": true
    },
    "kernelspec": {
      "name": "python3",
      "display_name": "Python 3"
    },
    "accelerator": "GPU"
  },
  "cells": [
    {
      "cell_type": "markdown",
      "metadata": {
        "id": "view-in-github",
        "colab_type": "text"
      },
      "source": [
        "<a href=\"https://colab.research.google.com/github/Data-Science-and-Data-Analytics-Courses/UniMelb---Database-Systems-Information-Modelling-INFO90002_2019_SM1/blob/master/Packages/Files.ipynb\" target=\"_parent\"><img src=\"https://colab.research.google.com/assets/colab-badge.svg\" alt=\"Open In Colab\"/></a>"
      ]
    },
    {
      "metadata": {
        "id": "pXAKkY_Vubc0",
        "colab_type": "code",
        "colab": {}
      },
      "cell_type": "code",
      "source": [
        "import os\n",
        "from contextlib import contextmanager\n",
        "from functools import partial\n",
        "import requests\n",
        "from urllib.parse import urlsplit\n",
        "from pathlib import Path\n",
        "import re\n",
        "from fnmatch import fnmatch, filter as fnfilter\n",
        "import io\n",
        "import tarfile, gzip, zipfile\n",
        "import json\n",
        "import shutil\n",
        "import numpy as np\n",
        "from IPython.display import display\n",
        "\n",
        "# Reading modes supported by tarfile.open (https://docs.python.org/3/library/tarfile.html#tarfile.open)\n",
        "TARREADS = {\".tar.gz\": \"r:gz\", \".tgz\": \"r:gz\", \".tar.Z\": \"r:gz\",\n",
        "           \".tar.bz2\": \"r:bz2\", \".tbz2\": \"r:bz2\",\n",
        "           \".tar.lzma\": \"r:xz\", \".tlz\": \"r:xz\", \".tar.xz\": \"r:xz\", \".txz\": \"r:xz\"}"
      ],
      "execution_count": 0,
      "outputs": []
    },
    {
      "metadata": {
        "id": "osMcZSh39vdj",
        "colab_type": "text"
      },
      "cell_type": "markdown",
      "source": [
        "# General"
      ]
    },
    {
      "metadata": {
        "id": "PcpGrDig9wjt",
        "colab_type": "code",
        "outputId": "79739f74-b20a-4741-e500-d47325d46459",
        "colab": {
          "base_uri": "https://localhost:8080/",
          "height": 34
        }
      },
      "cell_type": "code",
      "source": [
        "def download(url, dest=\".\", name=\"\", force=False, options=\"-#\"):\n",
        "  \"\"\"\n",
        "  Download url into dest\n",
        "  name: if provided, rename downloaded\n",
        "  force: if True, overwrite existing resource\n",
        "  options: supported by curl (https://curl.haxx.se/docs/manpage.html)\n",
        "  \"\"\"\n",
        "  \n",
        "  rurl = urlsplit(url)\n",
        "  dest = Path(dest).resolve()\n",
        "  downloaded = dest / (name or Path(rurl.path).name)\n",
        "  \n",
        "  # Download\n",
        "  if not downloaded.exists() or force:\n",
        "    !curl $options --create-dirs \"{rurl.geturl()}\" -o \"{downloaded}\"\n",
        "\n",
        "  return downloaded\n",
        "\n",
        "if __name__ == \"__main__\":\n",
        "  url=\"http://yann.lecun.com/exdb/mnist/train-images-idx3-ubyte.gz\"\n",
        "  download(url)"
      ],
      "execution_count": 0,
      "outputs": [
        {
          "output_type": "stream",
          "text": [
            "######################################################################## 100.0%\n"
          ],
          "name": "stdout"
        }
      ]
    },
    {
      "metadata": {
        "id": "LBrN284eNYy7",
        "colab_type": "code",
        "colab": {}
      },
      "cell_type": "code",
      "source": [
        "def download2(url, dest=\".\", name=\"\", force=False, authfile=\"\"):\n",
        "  \"\"\"\n",
        "  Download url into dest\n",
        "  name: if provided, rename downloaded\n",
        "  force: if True, overwrite existing resource\n",
        "  authfile: path to .json authentication file, containing text: {\"username\": \"<username>\", \"password\": \"<password>\"}\n",
        "  \"\"\"\n",
        "  \n",
        "  rurl = urlsplit(url)\n",
        "  dest = Path(dest).resolve()\n",
        "  downloaded = dest / (name or Path(rurl.path).name)\n",
        "  \n",
        "  if not force and downloaded.exists():\n",
        "    return downloaded\n",
        "  \n",
        "  # Authentication information\n",
        "  auth_info = None\n",
        "  if authfile:\n",
        "    with open(authfile) as f:\n",
        "      auth_info = json.load(f)\n",
        "      \n",
        "  # Retrieve url\n",
        "  auth = None\n",
        "  if auth_info:\n",
        "    auth = (auth_info[\"username\"], auth_info[\"password\"])\n",
        "  r = requests.get(rurl.geturl(), auth=auth, stream=True)\n",
        "\n",
        "  # Write file\n",
        "  downloaded.parent.mkdir(parents=True, exist_ok=True)\n",
        "  with open(downloaded, 'wb') as f:\n",
        "    r.raw.decode_content = True\n",
        "    shutil.copyfileobj(r.raw, f)\n",
        "  \n",
        "  return downloaded\n",
        "\n",
        "if __name__ == \"__main__\":\n",
        "  url=\"https://prod-edxapp.edx-cdn.org/assets/courseware/v1/c9921c9218806f05d9480052212b77dc/asset-v1:MITx+18.6501x+3T2018+type@asset+block/lectureslides_chap1_annot.pdf\"\n",
        "  download2(url)"
      ],
      "execution_count": 0,
      "outputs": []
    },
    {
      "metadata": {
        "id": "3vLsk6H0-gch",
        "colab_type": "text"
      },
      "cell_type": "markdown",
      "source": [
        "# Tar"
      ]
    },
    {
      "metadata": {
        "id": "W7hGyOJKWGaY",
        "colab_type": "code",
        "colab": {}
      },
      "cell_type": "code",
      "source": [
        "@contextmanager\n",
        "def readtar(fpath, pattern=\"*.*\", peek=False):\n",
        "  \"\"\"\n",
        "  Read pattern in fpath\n",
        "  peek: if True, show matches before reading\n",
        "  \"\"\"\n",
        "\n",
        "  fpath = Path(fpath)\n",
        "  tpat = re.compile(r\"(?P<stem>.*)(?P<suffix>\\.t.*)$\") # e.g., .tar.gz, .tgz, .tar.Z, .tar.bz2, .tbz2, .tar.lzma, .tlz, .tar.xz, .txz\n",
        "  name = tpat.match(fpath.name)\n",
        "\n",
        "  t = tarfile.open(fpath, mode=TARREADS[name[\"suffix\"]])\n",
        "  try:\n",
        "    matches = fnfilter(t.getnames(), pattern)\n",
        "    if peek:\n",
        "      display(\"Read\", matches)\n",
        "      input(\"Press Enter to continue... \")\n",
        "    yield map(t.extractfile, matches)\n",
        "  finally:\n",
        "    t.close()"
      ],
      "execution_count": 0,
      "outputs": []
    },
    {
      "metadata": {
        "id": "7o6C_GbA-hJi",
        "colab_type": "code",
        "outputId": "6eab12bf-149d-4f97-c309-88bd060ce443",
        "colab": {
          "base_uri": "https://localhost:8080/",
          "height": 85
        }
      },
      "cell_type": "code",
      "source": [
        "def runtar(url, dest=\".\", patterns=None, top=True, force=False, peek=False):\n",
        "  \"\"\"\n",
        "  Retrieve url and untar patterns into dest\n",
        "  top: if True, create top directory if not exist\n",
        "  force: if True, overwrite existing members\n",
        "  peek: if True, show members before extraction\n",
        "  \"\"\"\n",
        "  \n",
        "  rurl = urlsplit(url)\n",
        "  dest = Path(dest).resolve()\n",
        "  tpat = re.compile(r\"(?P<stem>.*?)(?P<suffix>\\.t.*?)?$\") # e.g., .tar.gz, .tgz, .tar.Z, .tar.bz2, .tbz2, .tar.lzma, .tlz, .tar.xz, .txz\n",
        "  name = tpat.match(Path(rurl.path).name)\n",
        "\n",
        "  # Retrieve\n",
        "  r = requests.get(url)\n",
        "  t = tarfile.open(fileobj=io.BytesIO(r.content), mode=TARREADS[name[\"suffix\"]])\n",
        "\n",
        "  # Members\n",
        "  members = np.array(t.getnames())\n",
        "  items = np.vectorize(Path)(members) # Path objects\n",
        "  extract = members\n",
        "\n",
        "  # Top directory\n",
        "  tops = map(lambda m: m.parts[0], items) # tops of directory tree\n",
        "  if top and len(set(tops))>=2:\n",
        "    dest = dest / name[\"stem\"]\n",
        "\n",
        "  # Matches\n",
        "  if patterns:\n",
        "    matched = list(map(lambda m: any(map(m.match, patterns)), items))\n",
        "    extract = extract[matched]\n",
        "  \n",
        "  # Existing members\n",
        "  extracted = list(map(dest.joinpath, extract))\n",
        "  if not force:\n",
        "    exist = list(map(Path.exists, extracted))\n",
        "    extract = extract[np.logical_not(exist)]\n",
        "\n",
        "  # Show members\n",
        "  if peek:\n",
        "    display(\"Extract\", extract, f\"into {dest}\")\n",
        "    input(\"Press Enter to continue... \")\n",
        "  \n",
        "  # Extract\n",
        "  list(map(partial(t.extract, path=dest), extract))\n",
        "  \n",
        "  return extracted # extracted/existing\n",
        "\n",
        "if __name__ == \"__main__\":\n",
        "  url = \"https://cvml.ist.ac.at/AwA/AwA-base.tar.bz2\"\n",
        "  runtar(url, peek=True)"
      ],
      "execution_count": 0,
      "outputs": [
        {
          "output_type": "display_data",
          "data": {
            "text/plain": [
              "'Extract'"
            ]
          },
          "metadata": {
            "tags": []
          }
        },
        {
          "output_type": "display_data",
          "data": {
            "text/plain": [
              "array([], dtype='<U55')"
            ]
          },
          "metadata": {
            "tags": []
          }
        },
        {
          "output_type": "display_data",
          "data": {
            "text/plain": [
              "'into /content'"
            ]
          },
          "metadata": {
            "tags": []
          }
        },
        {
          "output_type": "stream",
          "text": [
            "Press Enter to continue... \n"
          ],
          "name": "stdout"
        }
      ]
    },
    {
      "metadata": {
        "id": "rwnDMgV1uWWw",
        "colab_type": "text"
      },
      "cell_type": "markdown",
      "source": [
        "# Zip"
      ]
    },
    {
      "metadata": {
        "colab_type": "code",
        "id": "NIddGGQAP669",
        "outputId": "3bd2afcb-f8b6-4904-b777-50c3afde5cee",
        "colab": {
          "base_uri": "https://localhost:8080/",
          "height": 85
        }
      },
      "cell_type": "code",
      "source": [
        "def runzip(url, dest=\".\", patterns=None, top=True, force=False, peek=False):\n",
        "  \"\"\"\n",
        "  Retrieve url and unzip patterns into dest\n",
        "  top: if True, create top directory if not exist\n",
        "  force: if True, overwrite existing members\n",
        "  peek: if True, show members before extraction\n",
        "  \"\"\"\n",
        "  \n",
        "  rurl = urlsplit(url)\n",
        "  dest = Path(dest).resolve()\n",
        "  zpat = re.compile(r\"(?P<stem>.*?)(?P<suffix>\\.zip.*?)?$\") # e.g., .zip\n",
        "  name = zpat.match(Path(rurl.path).name)\n",
        "\n",
        "  # Retrieve\n",
        "  r = requests.get(url)\n",
        "  z = zipfile.ZipFile(io.BytesIO(r.content))\n",
        "\n",
        "  # Members\n",
        "  members = np.array(z.namelist())\n",
        "  items = np.vectorize(Path)(members) # Path objects\n",
        "  extract = members\n",
        "\n",
        "  # Top directory\n",
        "  tops = map(lambda m: m.parts[0], items) # tops of directory tree\n",
        "  if top and len(set(tops))>=2:\n",
        "    dest = dest / name[\"stem\"]\n",
        "\n",
        "  # Matches\n",
        "  if patterns:\n",
        "    matched = list(map(lambda m: any(map(m.match, patterns)), items))\n",
        "    extract = extract[matched]\n",
        "  \n",
        "  # Existing members\n",
        "  extracted = list(map(dest.joinpath, extract))\n",
        "  if not force:\n",
        "    exist = list(map(Path.exists, extracted))\n",
        "    extract = extract[np.logical_not(exist)]\n",
        "\n",
        "  # Show members\n",
        "  if peek:\n",
        "    display(\"Extract\", extract, f\"into {dest}\")\n",
        "    input(\"Press Enter to continue... \")\n",
        "  \n",
        "  # Extract\n",
        "  list(map(partial(z.extract, path=dest), extract))\n",
        "  \n",
        "  return extracted # extracted/existing\n",
        "\n",
        "if __name__ == \"__main__\":\n",
        "  url = \"https://prod-edxapp.edx-cdn.org/assets/courseware/v1/e7b080a506546a859b50d03f9d0705f5/asset-v1:UCSanDiegoX+DSE220x+1T2019+type@asset+block/DSE220x_PA7.zip\"\n",
        "  runzip(url, peek=True)"
      ],
      "execution_count": 0,
      "outputs": [
        {
          "output_type": "display_data",
          "data": {
            "text/plain": [
              "'Extract'"
            ]
          },
          "metadata": {
            "tags": []
          }
        },
        {
          "output_type": "display_data",
          "data": {
            "text/plain": [
              "array([], dtype='<U84')"
            ]
          },
          "metadata": {
            "tags": []
          }
        },
        {
          "output_type": "display_data",
          "data": {
            "text/plain": [
              "'into /content/DSE220x_PA7'"
            ]
          },
          "metadata": {
            "tags": []
          }
        },
        {
          "output_type": "stream",
          "text": [
            "Press Enter to continue... \n"
          ],
          "name": "stdout"
        }
      ]
    }
  ]
}
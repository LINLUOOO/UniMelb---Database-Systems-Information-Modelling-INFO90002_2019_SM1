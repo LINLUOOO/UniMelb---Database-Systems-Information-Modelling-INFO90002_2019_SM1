{
  "nbformat": 4,
  "nbformat_minor": 0,
  "metadata": {
    "colab": {
      "name": "Importing Notebooks.ipynb",
      "version": "0.3.2",
      "provenance": []
    },
    "kernelspec": {
      "name": "python3",
      "display_name": "Python 3"
    },
    "accelerator": "GPU"
  },
  "cells": [
    {
      "metadata": {
        "id": "PgJY8xKpcQyM",
        "colab_type": "text"
      },
      "cell_type": "markdown",
      "source": [
        "***This notebook is modified from the original [Importing Notebooks.ipynb](https://github.com/jupyter/notebook/blob/master/docs/source/examples/Notebook/Importing%20Notebooks.ipynb).***"
      ]
    },
    {
      "metadata": {
        "id": "iQp7SgHVbw7f",
        "colab_type": "text"
      },
      "cell_type": "markdown",
      "source": [
        "# Importing Jupyter Notebooks as Modules"
      ]
    },
    {
      "metadata": {
        "id": "N53Er4upbw7i",
        "colab_type": "text"
      },
      "cell_type": "markdown",
      "source": [
        "It is a common problem that people want to import code from Jupyter Notebooks.\n",
        "This is made difficult by the fact that Notebooks are not plain Python files,\n",
        "and thus cannot be imported by the regular Python machinery.\n",
        "\n",
        "Fortunately, Python provides some fairly sophisticated [hooks](https://www.python.org/dev/peps/pep-0302/) into the import machinery,\n",
        "so we can actually make Jupyter notebooks importable without much difficulty,\n",
        "and only using public APIs."
      ]
    },
    {
      "metadata": {
        "id": "pBmFAPxGbw7j",
        "colab_type": "code",
        "colab": {}
      },
      "cell_type": "code",
      "source": [
        "import io, os, sys, types"
      ],
      "execution_count": 0,
      "outputs": []
    },
    {
      "metadata": {
        "id": "Ljqw2o_Bbw7n",
        "colab_type": "code",
        "colab": {}
      },
      "cell_type": "code",
      "source": [
        "from IPython import get_ipython\n",
        "from nbformat import read\n",
        "from IPython.core.interactiveshell import InteractiveShell"
      ],
      "execution_count": 0,
      "outputs": []
    },
    {
      "metadata": {
        "id": "3PteBZmzbw7q",
        "colab_type": "text"
      },
      "cell_type": "markdown",
      "source": [
        "Import hooks typically take the form of two objects:\n",
        "\n",
        "1. a Module **Loader**, which takes a module name (e.g. `'IPython.display'`), and returns a Module\n",
        "2. a Module **Finder**, which figures out whether a module might exist, and tells Python what **Loader** to use"
      ]
    },
    {
      "metadata": {
        "id": "lUXg3wZnbw7r",
        "colab_type": "code",
        "colab": {}
      },
      "cell_type": "code",
      "source": [
        "def find_notebook(fullname, path=None):\n",
        "    \"\"\"find a notebook, given its fully qualified name and an optional path\n",
        "    \n",
        "    This turns \"foo.bar\" into \"foo/bar.ipynb\"\n",
        "    and tries turning \"Foo_Bar\" into \"Foo Bar\" if Foo_Bar\n",
        "    does not exist.\n",
        "    \"\"\"\n",
        "    name = fullname.rsplit('.', 1)[-1]\n",
        "    if not path:\n",
        "        path = ['']\n",
        "    for d in path:\n",
        "        nb_path = os.path.join(d, name + \".ipynb\")\n",
        "        if os.path.isfile(nb_path):\n",
        "            return nb_path\n",
        "        # let import Notebook_Name find \"Notebook Name.ipynb\"\n",
        "        nb_path = nb_path.replace(\"_\", \" \")\n",
        "        if os.path.isfile(nb_path):\n",
        "            return nb_path\n",
        "            "
      ],
      "execution_count": 0,
      "outputs": []
    },
    {
      "metadata": {
        "id": "cbEvi2MZbw7t",
        "colab_type": "text"
      },
      "cell_type": "markdown",
      "source": [
        "## Notebook Loader"
      ]
    },
    {
      "metadata": {
        "id": "z47FJGvUbw7u",
        "colab_type": "text"
      },
      "cell_type": "markdown",
      "source": [
        "Here we have our Notebook Loader.\n",
        "It's actually quite simple - once we figure out the filename of the module,\n",
        "all it does is:\n",
        "\n",
        "1. load the notebook document into memory\n",
        "2. create an empty Module\n",
        "3. execute every cell in the Module namespace\n",
        "\n",
        "Since IPython cells can have extended syntax,\n",
        "the IPython transform is applied to turn each of these cells into their pure-Python counterparts before executing them.\n",
        "If all of your notebook cells are pure-Python,\n",
        "this step is unnecessary."
      ]
    },
    {
      "metadata": {
        "id": "36WTbKEbbw7v",
        "colab_type": "code",
        "colab": {}
      },
      "cell_type": "code",
      "source": [
        "class NotebookLoader(object):\n",
        "    \"\"\"Module Loader for Jupyter Notebooks\"\"\"\n",
        "    def __init__(self, path=None):\n",
        "        self.shell = InteractiveShell.instance()\n",
        "        self.path = path\n",
        "    \n",
        "    def load_module(self, fullname):\n",
        "        \"\"\"import a notebook as a module\"\"\"\n",
        "        path = find_notebook(fullname, self.path)\n",
        "        \n",
        "        print (\"importing Jupyter notebook from %s\" % path)\n",
        "                                       \n",
        "        # load the notebook object\n",
        "        with io.open(path, 'r', encoding='utf-8') as f:\n",
        "            nb = read(f, 4)\n",
        "        \n",
        "        \n",
        "        # create the module and add it to sys.modules\n",
        "        # if name in sys.modules:\n",
        "        #    return sys.modules[name]\n",
        "        mod = types.ModuleType(fullname)\n",
        "        mod.__file__ = path\n",
        "        mod.__loader__ = self\n",
        "        mod.__dict__['get_ipython'] = get_ipython\n",
        "        sys.modules[fullname] = mod\n",
        "        \n",
        "        # extra work to ensure that magics that would affect the user_ns\n",
        "        # actually affect the notebook module's ns\n",
        "        save_user_ns = self.shell.user_ns\n",
        "        self.shell.user_ns = mod.__dict__\n",
        "        \n",
        "        try:\n",
        "          for cell in nb.cells:\n",
        "            if cell.cell_type == 'code':\n",
        "                # transform the input to executable Python\n",
        "                code = self.shell.input_transformer_manager.transform_cell(cell.source)\n",
        "                # run the code in themodule\n",
        "                exec(code, mod.__dict__)\n",
        "        finally:\n",
        "            self.shell.user_ns = save_user_ns\n",
        "        return mod\n"
      ],
      "execution_count": 0,
      "outputs": []
    },
    {
      "metadata": {
        "id": "xNRTV-WLbw7y",
        "colab_type": "text"
      },
      "cell_type": "markdown",
      "source": [
        "## The Module Finder"
      ]
    },
    {
      "metadata": {
        "id": "z3g2sbXubw7z",
        "colab_type": "text"
      },
      "cell_type": "markdown",
      "source": [
        "The finder is a simple object that tells you whether a name can be imported,\n",
        "and returns the appropriate loader.\n",
        "All this one does is check, when you do:\n",
        "\n",
        "```python\n",
        "import mynotebook\n",
        "```\n",
        "\n",
        "it checks whether `mynotebook.ipynb` exists.\n",
        "If a notebook is found, then it returns a NotebookLoader.\n",
        "\n",
        "Any extra logic is just for resolving paths within packages."
      ]
    },
    {
      "metadata": {
        "id": "ZcEVc16Fbw7z",
        "colab_type": "code",
        "colab": {}
      },
      "cell_type": "code",
      "source": [
        "class NotebookFinder(object):\n",
        "    \"\"\"Module finder that locates Jupyter Notebooks\"\"\"\n",
        "    def __init__(self):\n",
        "        self.loaders = {}\n",
        "    \n",
        "    def find_module(self, fullname, path=None):\n",
        "        nb_path = find_notebook(fullname, path)\n",
        "        if not nb_path:\n",
        "            return\n",
        "        \n",
        "        key = path\n",
        "        if path:\n",
        "            # lists aren't hashable\n",
        "            key = os.path.sep.join(path)\n",
        "        \n",
        "        if key not in self.loaders:\n",
        "            self.loaders[key] = NotebookLoader(path)\n",
        "        return self.loaders[key]\n"
      ],
      "execution_count": 0,
      "outputs": []
    },
    {
      "metadata": {
        "id": "xuG5htCIbw73",
        "colab_type": "text"
      },
      "cell_type": "markdown",
      "source": [
        "## Register the hook"
      ]
    },
    {
      "metadata": {
        "id": "9HFArU91bw74",
        "colab_type": "text"
      },
      "cell_type": "markdown",
      "source": [
        "Now we register the `NotebookFinder` with `sys.meta_path`"
      ]
    },
    {
      "metadata": {
        "id": "r3XRXQkVbw79",
        "colab_type": "code",
        "colab": {}
      },
      "cell_type": "code",
      "source": [
        "sys.meta_path.append(NotebookFinder())"
      ],
      "execution_count": 0,
      "outputs": []
    },
    {
      "metadata": {
        "id": "P-ca7QNrbw8E",
        "colab_type": "text"
      },
      "cell_type": "markdown",
      "source": [
        "After this point, my notebooks should be importable.\n",
        "\n",
        "Let's look at what we have in the CWD:"
      ]
    },
    {
      "metadata": {
        "id": "k1KVHazAbw8E",
        "colab_type": "code",
        "colab": {}
      },
      "cell_type": "code",
      "source": [
        "#ls nbpackage"
      ],
      "execution_count": 0,
      "outputs": []
    },
    {
      "metadata": {
        "id": "Ko3NcjMybw8H",
        "colab_type": "text"
      },
      "cell_type": "markdown",
      "source": [
        "So I should be able to `import nbpackage.mynotebook`."
      ]
    },
    {
      "metadata": {
        "id": "we8rk-Wubw8I",
        "colab_type": "code",
        "colab": {}
      },
      "cell_type": "code",
      "source": [
        "#import nbpackage.mynotebook"
      ],
      "execution_count": 0,
      "outputs": []
    },
    {
      "metadata": {
        "id": "wIM0uOBObw8L",
        "colab_type": "text"
      },
      "cell_type": "markdown",
      "source": [
        "### Aside: displaying notebooks"
      ]
    },
    {
      "metadata": {
        "id": "cuqgmsCDbw8L",
        "colab_type": "text"
      },
      "cell_type": "markdown",
      "source": [
        "Here is some simple code to display the contents of a notebook\n",
        "with syntax highlighting, etc."
      ]
    },
    {
      "metadata": {
        "id": "mJd9K0Lfbw8N",
        "colab_type": "code",
        "outputId": "b10dd29d-04bd-45f6-db18-0753a8729a07",
        "colab": {
          "base_uri": "https://localhost:8080/",
          "height": 17
        }
      },
      "cell_type": "code",
      "source": [
        "from pygments import highlight\n",
        "from pygments.lexers import PythonLexer\n",
        "from pygments.formatters import HtmlFormatter\n",
        "\n",
        "from IPython.display import display, HTML\n",
        "\n",
        "formatter = HtmlFormatter()\n",
        "lexer = PythonLexer()\n",
        "\n",
        "# publish the CSS for pygments highlighting\n",
        "display(HTML(\"\"\"\n",
        "<style type='text/css'>\n",
        "%s\n",
        "</style>\n",
        "\"\"\" % formatter.get_style_defs()\n",
        "))"
      ],
      "execution_count": 0,
      "outputs": [
        {
          "output_type": "display_data",
          "data": {
            "text/html": [
              "\n",
              "<style type='text/css'>\n",
              ".hll { background-color: #ffffcc }\n",
              ".c { color: #408080; font-style: italic } /* Comment */\n",
              ".err { border: 1px solid #FF0000 } /* Error */\n",
              ".k { color: #008000; font-weight: bold } /* Keyword */\n",
              ".o { color: #666666 } /* Operator */\n",
              ".ch { color: #408080; font-style: italic } /* Comment.Hashbang */\n",
              ".cm { color: #408080; font-style: italic } /* Comment.Multiline */\n",
              ".cp { color: #BC7A00 } /* Comment.Preproc */\n",
              ".cpf { color: #408080; font-style: italic } /* Comment.PreprocFile */\n",
              ".c1 { color: #408080; font-style: italic } /* Comment.Single */\n",
              ".cs { color: #408080; font-style: italic } /* Comment.Special */\n",
              ".gd { color: #A00000 } /* Generic.Deleted */\n",
              ".ge { font-style: italic } /* Generic.Emph */\n",
              ".gr { color: #FF0000 } /* Generic.Error */\n",
              ".gh { color: #000080; font-weight: bold } /* Generic.Heading */\n",
              ".gi { color: #00A000 } /* Generic.Inserted */\n",
              ".go { color: #888888 } /* Generic.Output */\n",
              ".gp { color: #000080; font-weight: bold } /* Generic.Prompt */\n",
              ".gs { font-weight: bold } /* Generic.Strong */\n",
              ".gu { color: #800080; font-weight: bold } /* Generic.Subheading */\n",
              ".gt { color: #0044DD } /* Generic.Traceback */\n",
              ".kc { color: #008000; font-weight: bold } /* Keyword.Constant */\n",
              ".kd { color: #008000; font-weight: bold } /* Keyword.Declaration */\n",
              ".kn { color: #008000; font-weight: bold } /* Keyword.Namespace */\n",
              ".kp { color: #008000 } /* Keyword.Pseudo */\n",
              ".kr { color: #008000; font-weight: bold } /* Keyword.Reserved */\n",
              ".kt { color: #B00040 } /* Keyword.Type */\n",
              ".m { color: #666666 } /* Literal.Number */\n",
              ".s { color: #BA2121 } /* Literal.String */\n",
              ".na { color: #7D9029 } /* Name.Attribute */\n",
              ".nb { color: #008000 } /* Name.Builtin */\n",
              ".nc { color: #0000FF; font-weight: bold } /* Name.Class */\n",
              ".no { color: #880000 } /* Name.Constant */\n",
              ".nd { color: #AA22FF } /* Name.Decorator */\n",
              ".ni { color: #999999; font-weight: bold } /* Name.Entity */\n",
              ".ne { color: #D2413A; font-weight: bold } /* Name.Exception */\n",
              ".nf { color: #0000FF } /* Name.Function */\n",
              ".nl { color: #A0A000 } /* Name.Label */\n",
              ".nn { color: #0000FF; font-weight: bold } /* Name.Namespace */\n",
              ".nt { color: #008000; font-weight: bold } /* Name.Tag */\n",
              ".nv { color: #19177C } /* Name.Variable */\n",
              ".ow { color: #AA22FF; font-weight: bold } /* Operator.Word */\n",
              ".w { color: #bbbbbb } /* Text.Whitespace */\n",
              ".mb { color: #666666 } /* Literal.Number.Bin */\n",
              ".mf { color: #666666 } /* Literal.Number.Float */\n",
              ".mh { color: #666666 } /* Literal.Number.Hex */\n",
              ".mi { color: #666666 } /* Literal.Number.Integer */\n",
              ".mo { color: #666666 } /* Literal.Number.Oct */\n",
              ".sb { color: #BA2121 } /* Literal.String.Backtick */\n",
              ".sc { color: #BA2121 } /* Literal.String.Char */\n",
              ".sd { color: #BA2121; font-style: italic } /* Literal.String.Doc */\n",
              ".s2 { color: #BA2121 } /* Literal.String.Double */\n",
              ".se { color: #BB6622; font-weight: bold } /* Literal.String.Escape */\n",
              ".sh { color: #BA2121 } /* Literal.String.Heredoc */\n",
              ".si { color: #BB6688; font-weight: bold } /* Literal.String.Interpol */\n",
              ".sx { color: #008000 } /* Literal.String.Other */\n",
              ".sr { color: #BB6688 } /* Literal.String.Regex */\n",
              ".s1 { color: #BA2121 } /* Literal.String.Single */\n",
              ".ss { color: #19177C } /* Literal.String.Symbol */\n",
              ".bp { color: #008000 } /* Name.Builtin.Pseudo */\n",
              ".vc { color: #19177C } /* Name.Variable.Class */\n",
              ".vg { color: #19177C } /* Name.Variable.Global */\n",
              ".vi { color: #19177C } /* Name.Variable.Instance */\n",
              ".il { color: #666666 } /* Literal.Number.Integer.Long */\n",
              "</style>\n"
            ],
            "text/plain": [
              "<IPython.core.display.HTML object>"
            ]
          },
          "metadata": {
            "tags": []
          }
        }
      ]
    },
    {
      "metadata": {
        "id": "tCR4T8trbw8P",
        "colab_type": "code",
        "colab": {}
      },
      "cell_type": "code",
      "source": [
        "def show_notebook(fname):\n",
        "    \"\"\"display a short summary of the cells of a notebook\"\"\"\n",
        "    with io.open(fname, 'r', encoding='utf-8') as f:\n",
        "        nb = read(f, 4)\n",
        "    html = []\n",
        "    for cell in nb.cells:\n",
        "        html.append(\"<h4>%s cell</h4>\" % cell.cell_type)\n",
        "        if cell.cell_type == 'code':\n",
        "            html.append(highlight(cell.source, lexer, formatter))\n",
        "        else:\n",
        "            html.append(\"<pre>%s</pre>\" % cell.source)\n",
        "    display(HTML('\\n'.join(html)))\n",
        "\n",
        "#show_notebook(os.path.join(\"nbpackage\", \"mynotebook.ipynb\"))"
      ],
      "execution_count": 0,
      "outputs": []
    },
    {
      "metadata": {
        "id": "1jNWGJctbw8R",
        "colab_type": "text"
      },
      "cell_type": "markdown",
      "source": [
        "So my notebook has some code cells,\n",
        "one of which contains some IPython syntax.\n",
        "\n",
        "Let's see what happens when we import it"
      ]
    },
    {
      "metadata": {
        "id": "OvXNup-gbw8S",
        "colab_type": "code",
        "colab": {}
      },
      "cell_type": "code",
      "source": [
        "#from nbpackage import mynotebook"
      ],
      "execution_count": 0,
      "outputs": []
    },
    {
      "metadata": {
        "id": "bj6Wmpsxbw8U",
        "colab_type": "text"
      },
      "cell_type": "markdown",
      "source": [
        "Hooray, it imported!  Does it work?"
      ]
    },
    {
      "metadata": {
        "id": "yRjXioHqbw8W",
        "colab_type": "code",
        "colab": {}
      },
      "cell_type": "code",
      "source": [
        "#mynotebook.foo()"
      ],
      "execution_count": 0,
      "outputs": []
    },
    {
      "metadata": {
        "id": "34H0fcMtbw8b",
        "colab_type": "text"
      },
      "cell_type": "markdown",
      "source": [
        "Hooray again!\n",
        "\n",
        "Even the function that contains IPython syntax works:"
      ]
    },
    {
      "metadata": {
        "id": "0Wh60cZSbw8f",
        "colab_type": "code",
        "colab": {}
      },
      "cell_type": "code",
      "source": [
        "#mynotebook.has_ip_syntax()"
      ],
      "execution_count": 0,
      "outputs": []
    },
    {
      "metadata": {
        "id": "RNCBReETbw8k",
        "colab_type": "text"
      },
      "cell_type": "markdown",
      "source": [
        "## Notebooks in packages"
      ]
    },
    {
      "metadata": {
        "id": "SUHAvy8fbw8l",
        "colab_type": "text"
      },
      "cell_type": "markdown",
      "source": [
        "We also have a notebook inside the `nb` package,\n",
        "so let's make sure that works as well."
      ]
    },
    {
      "metadata": {
        "id": "vFGGc7ZYbw8o",
        "colab_type": "code",
        "colab": {}
      },
      "cell_type": "code",
      "source": [
        "#ls nbpackage/nbs"
      ],
      "execution_count": 0,
      "outputs": []
    },
    {
      "metadata": {
        "id": "AT2jRdugbw8u",
        "colab_type": "text"
      },
      "cell_type": "markdown",
      "source": [
        "Note that the `__init__.py` is necessary for `nb` to be considered a package,\n",
        "just like usual."
      ]
    },
    {
      "metadata": {
        "id": "KuVTe7Embw8v",
        "colab_type": "code",
        "colab": {}
      },
      "cell_type": "code",
      "source": [
        "#show_notebook(os.path.join(\"nbpackage\", \"nbs\", \"other.ipynb\"))"
      ],
      "execution_count": 0,
      "outputs": []
    },
    {
      "metadata": {
        "id": "U9fepgu4bw8x",
        "colab_type": "code",
        "colab": {}
      },
      "cell_type": "code",
      "source": [
        "#from nbpackage.nbs import other\n",
        "#other.bar(5)"
      ],
      "execution_count": 0,
      "outputs": []
    },
    {
      "metadata": {
        "id": "DLtp5derbw8z",
        "colab_type": "text"
      },
      "cell_type": "markdown",
      "source": [
        "So now we have importable notebooks, from both the local directory and inside packages.\n",
        "\n",
        "I can even put a notebook inside IPython, to further demonstrate that this is working properly:"
      ]
    },
    {
      "metadata": {
        "id": "lyi9bSIqbw82",
        "colab_type": "code",
        "colab": {}
      },
      "cell_type": "code",
      "source": [
        "import shutil\n",
        "from IPython.paths import get_ipython_package_dir\n",
        "\n",
        "#utils = os.path.join(get_ipython_package_dir(), 'utils')\n",
        "#shutil.copy(os.path.join(\"nbpackage\", \"mynotebook.ipynb\"),\n",
        "#            os.path.join(utils, \"inside_ipython.ipynb\")\n",
        "#)"
      ],
      "execution_count": 0,
      "outputs": []
    },
    {
      "metadata": {
        "id": "MhSSHAwZbw87",
        "colab_type": "text"
      },
      "cell_type": "markdown",
      "source": [
        "and import the notebook from `IPython.utils`"
      ]
    },
    {
      "metadata": {
        "id": "jCyx_9nRbw87",
        "colab_type": "code",
        "colab": {}
      },
      "cell_type": "code",
      "source": [
        "#from IPython.utils import inside_ipython\n",
        "#inside_ipython.whatsmyname()"
      ],
      "execution_count": 0,
      "outputs": []
    },
    {
      "metadata": {
        "id": "EixWwn6Abw8-",
        "colab_type": "text"
      },
      "cell_type": "markdown",
      "source": [
        "This approach can even import functions and classes that are defined in a notebook using the `%%cython` magic."
      ]
    }
  ]
}
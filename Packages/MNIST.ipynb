{
  "nbformat": 4,
  "nbformat_minor": 0,
  "metadata": {
    "colab": {
      "name": "MNIST.ipynb",
      "version": "0.3.2",
      "provenance": []
    },
    "kernelspec": {
      "name": "python3",
      "display_name": "Python 3"
    },
    "accelerator": "GPU"
  },
  "cells": [
    {
      "metadata": {
        "id": "5pAI0l9Wc_lV",
        "colab_type": "code",
        "colab": {}
      },
      "cell_type": "code",
      "source": [
        "import requests\n",
        "import io\n",
        "import gzip\n",
        "import numpy as np"
      ],
      "execution_count": 0,
      "outputs": []
    },
    {
      "metadata": {
        "id": "a60set99drKj",
        "colab_type": "text"
      },
      "cell_type": "markdown",
      "source": [
        "# Load"
      ]
    },
    {
      "metadata": {
        "id": "2tLSsS8TabyH",
        "colab_type": "code",
        "outputId": "7b34b479-af94-432f-ddaa-b7f5e97027be",
        "colab": {
          "base_uri": "https://localhost:8080/",
          "height": 34
        }
      },
      "cell_type": "code",
      "source": [
        "def load_images(url=\"\", filepath=\"\", size=28*28):\n",
        "  \"\"\"\n",
        "  Load .gz images from url or filepath into numpy array\n",
        "  size: total pixels in image (width x height)\n",
        "  \"\"\"\n",
        "  \n",
        "  # Data vector\n",
        "  if url:\n",
        "    r = requests.get(url)\n",
        "    fileobj = gzip.open(io.BytesIO(r.content))\n",
        "  else:\n",
        "    fileobj = gzip.open(filepath)\n",
        "  data = np.frombuffer(fileobj.read(), np.uint8, offset=16)\n",
        "  fileobj.close()\n",
        "  \n",
        "  # Data matrix\n",
        "  data = data.reshape(-1,size)\n",
        "  \n",
        "  return data\n",
        "\n",
        "if __name__ == \"__main__\":\n",
        "  url = \"http://yann.lecun.com/exdb/mnist/train-images-idx3-ubyte.gz\"\n",
        "  data = load_images(url=url)\n",
        "  print(data.shape)"
      ],
      "execution_count": 0,
      "outputs": [
        {
          "output_type": "stream",
          "text": [
            "(60000, 784)\n"
          ],
          "name": "stdout"
        }
      ]
    },
    {
      "metadata": {
        "id": "RQ8FMplGd2g_",
        "colab_type": "code",
        "outputId": "24c82f39-161c-4561-8a55-a98a02756564",
        "colab": {
          "base_uri": "https://localhost:8080/",
          "height": 34
        }
      },
      "cell_type": "code",
      "source": [
        "def load_labels(url=\"\", filepath=\"\"):\n",
        "  \"\"\"\n",
        "  Load .gz labels from url or filepath into numpy array\n",
        "  \"\"\"\n",
        "  \n",
        "  # Data vector\n",
        "  if url:\n",
        "    r = requests.get(url)\n",
        "    fileobj = gzip.open(io.BytesIO(r.content))\n",
        "  else:\n",
        "    fileobj = gzip.open(filepath)\n",
        "  data = np.frombuffer(fileobj.read(), np.uint8, offset=8)\n",
        "  fileobj.close()  \n",
        "  \n",
        "  return data\n",
        "\n",
        "if __name__ == \"__main__\":\n",
        "  url = \"http://yann.lecun.com/exdb/mnist/train-labels-idx1-ubyte.gz\"\n",
        "  data = load_labels(url=url)\n",
        "  print(data.shape)"
      ],
      "execution_count": 0,
      "outputs": [
        {
          "output_type": "stream",
          "text": [
            "(60000,)\n"
          ],
          "name": "stdout"
        }
      ]
    }
  ]
}